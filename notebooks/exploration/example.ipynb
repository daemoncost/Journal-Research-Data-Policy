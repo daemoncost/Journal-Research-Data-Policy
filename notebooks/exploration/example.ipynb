{
 "cells": [
  {
   "cell_type": "code",
   "execution_count": 1,
   "id": "329991a1",
   "metadata": {},
   "outputs": [],
   "source": [
    "%load_ext autoreload\n",
    "%autoreload 2"
   ]
  },
  {
   "cell_type": "code",
   "execution_count": 2,
   "id": "0ab0b216-7fdd-4b0e-ad71-d4604f6d7e76",
   "metadata": {},
   "outputs": [],
   "source": [
    "from daemon_analysis_tools.file_handling import load_and_process_csv\n",
    "from daemon_analysis_tools.data.utils import group_questions_by_journal\n",
    "from daemon_analysis_tools.data.publisher import Publisher\n",
    "from daemon_analysis_tools.file_handling import save_answers_to_yaml, load_answers_from_yaml"
   ]
  },
  {
   "cell_type": "markdown",
   "id": "f4721670-c95c-48cb-bdef-f97b4618114a",
   "metadata": {},
   "source": [
    "Load and process data:\n",
    "- Group answers by publisher and journal, trying to uniform names written in slightly different ways.\n",
    "- Store in a DataFrame"
   ]
  },
  {
   "cell_type": "code",
   "execution_count": 3,
   "id": "f56a64b0",
   "metadata": {},
   "outputs": [],
   "source": [
    "data = load_and_process_csv('../../data/raw/rdp.csv')"
   ]
  },
  {
   "cell_type": "markdown",
   "id": "25f6f4d3",
   "metadata": {},
   "source": [
    "Get a `dict` labeled by publisher names of `dict`s labeled by journal names of `dict`s of `Question` instances. The `.answer` attribute contains the answers given by the respondents and the explanations text to motivate it."
   ]
  },
  {
   "cell_type": "code",
   "execution_count": 4,
   "id": "95536961",
   "metadata": {},
   "outputs": [],
   "source": [
    "grouped_questions = group_questions_by_journal(data)"
   ]
  },
  {
   "cell_type": "markdown",
   "id": "b1ac9dc1",
   "metadata": {},
   "source": [
    "Visualize the questions and answers given by the encoders (e.g. for ACS Accounts of Chemical Research)"
   ]
  },
  {
   "cell_type": "code",
   "execution_count": 147,
   "id": "44bc4054",
   "metadata": {},
   "outputs": [
    {
     "name": "stdout",
     "output_type": "stream",
     "text": [
      "1\n",
      "Research Data Policy (RDP) exists.\n",
      "Research Data Policy (RDP) exists.\n",
      "\n",
      "3\n",
      "Data sharing encouraged but optional.\n",
      "Data sharing required but not publicly (e.g. available upon request is allowed).\n",
      "\n",
      "4\n",
      "Public data sharing on a FAIR repository required only for specific types of data (e.g. genetic data has to be shared on a FAIR repository but no other data).\n",
      "Public data sharing on a FAIR repository encouraged.\n",
      "\n",
      "2\n",
      "Mentioned in the RDP but optional.\n",
      "Mentioned in the RDP but optional.\n",
      "\n",
      "5\n",
      "DOIs or other persistent identifiers recommended for datasets or codes.\n",
      "DOIs or other persistent identifiers recommended for datasets or codes.\n",
      "\n",
      "7\n",
      "Required data must be available after an embargo period.\n",
      "Required data must be available prior to official publication.\n",
      "\n",
      "8\n",
      "Public online repositories recommended in RDP.\n",
      "Data sharing in supplementary material or hosting by journal recommended in RDP.\n",
      "\n",
      "9\n",
      "Explicit mention of a certain license/license type in RDP.\n",
      "Explicit mention of a certain license/license type in RDP.\n",
      "\n",
      "10\n",
      "Data sharing policy not mentioned in refereeing guidelines.\n",
      "Data sharing policy not mentioned in refereeing guidelines.\n",
      "\n",
      "11\n",
      "CIF ; \n",
      "no text.\n",
      "\n",
      "12\n",
      "CIF\n",
      "no text.\n",
      "\n",
      "13\n",
      "Code sharing not mentioned.\n",
      "Code sharing not mentioned.\n",
      "\n",
      "14\n",
      "No mention of dependencies for research code.\n",
      "No mention of dependencies for research code.\n",
      "\n",
      "15\n",
      "No mention of a persistent identifier or specifying a version of developed code.\n",
      "No mention of a persistent identifier or specifying a version of developed code.\n",
      "\n",
      "16\n",
      "The journal policies do not mention any code quality standards.\n",
      "The journal policies do not mention any code quality standards.\n",
      "\n",
      "17\n",
      "No mention of automatic testing to verify code functionality.\n",
      "No mention of automatic testing to verify code functionality.\n",
      "\n",
      "18\n",
      "No mention of standards for code documentation.\n",
      "No mention of standards for code documentation.\n",
      "\n",
      "19\n",
      "No mention of linting standards for code.\n",
      "No mention of linting standards for code.\n",
      "\n",
      "20\n",
      "No mention of standards for code development such as continuous integration.\n",
      "No mention of standards for code development such as continuous integration.\n",
      "\n"
     ]
    }
   ],
   "source": [
    "for q in grouped_questions['ACS']['accounts_of_chemical_research']:\n",
    "    print(q)\n",
    "    for a in grouped_questions['ACS']['accounts_of_chemical_research'][q].answers:\n",
    "        print(a.text)\n",
    "    print()"
   ]
  },
  {
   "cell_type": "markdown",
   "id": "1bc17263",
   "metadata": {},
   "source": [
    "Questions and answer can be saved to `yaml` files."
   ]
  },
  {
   "cell_type": "code",
   "execution_count": 5,
   "id": "a4d1df2e",
   "metadata": {},
   "outputs": [],
   "source": [
    "save_answers_to_yaml(grouped_questions, parent_folder='../../data/processed/all_answers', save_only = ['IOP'])"
   ]
  },
  {
   "cell_type": "markdown",
   "id": "63a8215f",
   "metadata": {},
   "source": [
    "## Resolve discrepancies"
   ]
  },
  {
   "cell_type": "markdown",
   "id": "1809eb4c",
   "metadata": {},
   "source": [
    "The `Question` class has a `.resolve_discrepancies` method which updates `Question.anwsers` with the correct answer."
   ]
  },
  {
   "cell_type": "markdown",
   "id": "9a40c58d",
   "metadata": {},
   "source": [
    "For example, let's consider IOP's 2D Materials. Question 7 has discrepancies."
   ]
  },
  {
   "cell_type": "code",
   "execution_count": null,
   "id": "7e948e54",
   "metadata": {},
   "outputs": [],
   "source": [
    "grouped_questions['IOP']['2d_materials'][7].has_discrepancies()"
   ]
  },
  {
   "cell_type": "markdown",
   "id": "2a1944b9",
   "metadata": {},
   "source": [
    "These are the answers given by the two encoders:"
   ]
  },
  {
   "cell_type": "code",
   "execution_count": null,
   "id": "66b41318",
   "metadata": {},
   "outputs": [],
   "source": [
    "grouped_questions['IOP']['2d_materials'][7].print_qa()"
   ]
  },
  {
   "cell_type": "markdown",
   "id": "9ccc8677",
   "metadata": {},
   "source": [
    "Inconsistencies can be removed manually, passing the index of the correct respondent."
   ]
  },
  {
   "cell_type": "code",
   "execution_count": null,
   "id": "37f18086",
   "metadata": {},
   "outputs": [],
   "source": [
    "grouped_questions['IOP']['2d_materials'][7].resolve_discrepancy(correct_answer = 0)"
   ]
  },
  {
   "cell_type": "markdown",
   "id": "55dc4cd5",
   "metadata": {},
   "source": [
    "After doing this, the `.get_final_answer()` method returns the correct answer."
   ]
  },
  {
   "cell_type": "code",
   "execution_count": null,
   "id": "bbee9e63",
   "metadata": {},
   "outputs": [],
   "source": [
    "grouped_questions['IOP']['2d_materials'][7].get_final_answer()"
   ]
  },
  {
   "cell_type": "markdown",
   "id": "50efb2f5",
   "metadata": {},
   "source": [
    "Alternatively, inconsistencies can be solved with small additions to the `yaml` files written before."
   ]
  },
  {
   "cell_type": "markdown",
   "id": "6ecbfd0d",
   "metadata": {},
   "source": [
    "Each file, one per journal, has this form:\n",
    "\n",
    "```\n",
    "...\n",
    "...\n",
    "3:\n",
    "  text: 3. Data sharing requirements in RDP\n",
    "  has_discrepancies: true\n",
    "  0:\n",
    "    text: Data sharing encouraged but optional.\n",
    "    explanation: All ACS journals strongly encourage authors to make the research\n",
    "      data underlying their articles publicly available at the time of publication.\n",
    "  1:\n",
    "    text: Data sharing required but not publicly (e.g. available upon request is allowed).\n",
    "    explanation: \"Text from Journal Research Data Policy : \\n\\\" All ACS journals strongly\\\n",
    "      \\ encourage authors to make the research data underlying their articles publicly\\\n",
    "      \\ available at the time of publication. \\\"\"\n",
    "  correct_answer: null\n",
    "...\n",
    "...\n",
    "```\n",
    "\n",
    "Only questions where `has_discrepancies` is `true` should be taken care of. \n",
    "\n",
    "The correct answer can be chosen writing the encoder id in `correct_answer`. \n",
    "\n",
    "For example, in this case it seems that the first answer is correct, as the RDP only encourages (albeit strongly) data publication.\n",
    "\n",
    "Therefore, one can write\n",
    "\n",
    "```\n",
    "  correct_answer: 0\n",
    "```\n",
    "\n",
    "and save the file. Once all questions with discrepancies are fixed, one can save the `yaml` file and proceed with the next journal."
   ]
  },
  {
   "cell_type": "markdown",
   "id": "94a3b9b8",
   "metadata": {},
   "source": [
    "For the sake of illustrating the next functions, let's assume the correct answer is always the first, and manually \"fix\" all the q&a."
   ]
  },
  {
   "cell_type": "code",
   "execution_count": 150,
   "id": "98b7f113",
   "metadata": {},
   "outputs": [],
   "source": [
    "from copy import deepcopy\n",
    "fixed_grouped_questions = deepcopy(grouped_questions)\n",
    "for p in fixed_grouped_questions:\n",
    "    for j in fixed_grouped_questions[p]:\n",
    "        for q in fixed_grouped_questions[p][j]:\n",
    "            fixed_grouped_questions[p][j][q].resolve_discrepancy(correct_answer = 0)"
   ]
  },
  {
   "cell_type": "markdown",
   "id": "119f4b20",
   "metadata": {},
   "source": [
    "## `Publisher` and `Journal` classes"
   ]
  },
  {
   "cell_type": "markdown",
   "id": "cd5e934e",
   "metadata": {},
   "source": [
    "In case all the q&a files are fixed, load the `yaml` files and define a new, fixed, `grouped_questions` dictionary, uncommenting the next cell.\n",
    "\n",
    "Otherwise, keep the current `grouped_questions` dictionary as given by the preceding cell."
   ]
  },
  {
   "cell_type": "code",
   "execution_count": null,
   "id": "27bf45f8",
   "metadata": {},
   "outputs": [],
   "source": [
    "# fixed_grouped_questions = load_answers_from_yaml(parent_folder='../../data/processed/all_answers')"
   ]
  },
  {
   "cell_type": "markdown",
   "id": "65428355",
   "metadata": {},
   "source": [
    "Define a dictionary of `Publisher` instances containing `Journal` instances with the information taken from `grouped_questions`."
   ]
  },
  {
   "cell_type": "code",
   "execution_count": null,
   "id": "fb51bbc5",
   "metadata": {},
   "outputs": [],
   "source": [
    "publishers = {}\n",
    "\n",
    "for publisher_name, questions in grouped_questions.items():\n",
    "    publishers[publisher_name] = Publisher.from_questions(publisher_name, questions)"
   ]
  },
  {
   "cell_type": "markdown",
   "id": "2358a24f",
   "metadata": {},
   "source": [
    "For example, the ACS publisher instance is"
   ]
  },
  {
   "cell_type": "code",
   "execution_count": null,
   "id": "b086c6bd",
   "metadata": {},
   "outputs": [],
   "source": [
    "publishers['ACS']"
   ]
  },
  {
   "cell_type": "markdown",
   "id": "ff83dd87",
   "metadata": {},
   "source": [
    "and the journals it contains are"
   ]
  },
  {
   "cell_type": "code",
   "execution_count": null,
   "id": "5474f9a5",
   "metadata": {},
   "outputs": [],
   "source": [
    "publishers['ACS'].list_journals()"
   ]
  },
  {
   "cell_type": "markdown",
   "id": "5b69544e",
   "metadata": {},
   "source": [
    "and one of the jornals, e.g. JACS, is"
   ]
  },
  {
   "cell_type": "code",
   "execution_count": null,
   "id": "b3dd1a9a",
   "metadata": {},
   "outputs": [],
   "source": [
    "publishers['ACS'].get_journal('jacs')"
   ]
  }
 ],
 "metadata": {
  "kernelspec": {
   "display_name": "Python 3 (ipykernel)",
   "language": "python",
   "name": "python3"
  },
  "language_info": {
   "codemirror_mode": {
    "name": "ipython",
    "version": 3
   },
   "file_extension": ".py",
   "mimetype": "text/x-python",
   "name": "python",
   "nbconvert_exporter": "python",
   "pygments_lexer": "ipython3",
   "version": "3.11.8"
  }
 },
 "nbformat": 4,
 "nbformat_minor": 5
}
