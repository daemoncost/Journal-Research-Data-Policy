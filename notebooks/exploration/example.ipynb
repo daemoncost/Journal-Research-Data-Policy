{
 "cells": [
  {
   "cell_type": "code",
   "execution_count": null,
   "id": "329991a1",
   "metadata": {},
   "outputs": [],
   "source": [
    "%load_ext autoreload\n",
    "%autoreload 2"
   ]
  },
  {
   "cell_type": "code",
   "execution_count": 144,
   "id": "0ab0b216-7fdd-4b0e-ad71-d4604f6d7e76",
   "metadata": {},
   "outputs": [],
   "source": [
    "from daemon_analysis_tools.file_handling import load_and_process_csv\n",
    "from daemon_analysis_tools.data.utils import group_questions_by_journal\n",
    "from daemon_analysis_tools.data.publisher import Publisher\n",
    "from daemon_analysis_tools.file_handling import save_answers_to_yaml, load_answers_from_yaml"
   ]
  },
  {
   "cell_type": "markdown",
   "id": "f4721670-c95c-48cb-bdef-f97b4618114a",
   "metadata": {},
   "source": [
    "Load and process data:\n",
    "- Group answers by publisher and journal, trying to uniform names written in slightly different ways.\n",
    "- Store in a DataFrame"
   ]
  },
  {
   "cell_type": "code",
   "execution_count": 145,
   "id": "f56a64b0",
   "metadata": {},
   "outputs": [],
   "source": [
    "data = load_and_process_csv('../../data/raw/rdp.csv')"
   ]
  },
  {
   "cell_type": "markdown",
   "id": "25f6f4d3",
   "metadata": {},
   "source": [
    "Get a `dict` labeled by publisher names of `dict`s labeled by journal names of `dict`s of `Question` instances. The `.answer` attribute contains the answers given by the respondents and the explanations text to motivate it."
   ]
  },
  {
   "cell_type": "code",
   "execution_count": 146,
   "id": "95536961",
   "metadata": {},
   "outputs": [],
   "source": [
    "grouped_questions = group_questions_by_journal(data)"
   ]
  },
  {
   "cell_type": "markdown",
   "id": "b1ac9dc1",
   "metadata": {},
   "source": [
    "Visualize the questions and answers given by the encoders (e.g. for ACS Accounts of Chemical Research)"
   ]
  },
  {
   "cell_type": "code",
   "execution_count": 147,
   "id": "44bc4054",
   "metadata": {},
   "outputs": [
    {
     "name": "stdout",
     "output_type": "stream",
     "text": [
      "1\n",
      "Research Data Policy (RDP) exists.\n",
      "Research Data Policy (RDP) exists.\n",
      "\n",
      "3\n",
      "Data sharing encouraged but optional.\n",
      "Data sharing required but not publicly (e.g. available upon request is allowed).\n",
      "\n",
      "4\n",
      "Public data sharing on a FAIR repository required only for specific types of data (e.g. genetic data has to be shared on a FAIR repository but no other data).\n",
      "Public data sharing on a FAIR repository encouraged.\n",
      "\n",
      "2\n",
      "Mentioned in the RDP but optional.\n",
      "Mentioned in the RDP but optional.\n",
      "\n",
      "5\n",
      "DOIs or other persistent identifiers recommended for datasets or codes.\n",
      "DOIs or other persistent identifiers recommended for datasets or codes.\n",
      "\n",
      "7\n",
      "Required data must be available after an embargo period.\n",
      "Required data must be available prior to official publication.\n",
      "\n",
      "8\n",
      "Public online repositories recommended in RDP.\n",
      "Data sharing in supplementary material or hosting by journal recommended in RDP.\n",
      "\n",
      "9\n",
      "Explicit mention of a certain license/license type in RDP.\n",
      "Explicit mention of a certain license/license type in RDP.\n",
      "\n",
      "10\n",
      "Data sharing policy not mentioned in refereeing guidelines.\n",
      "Data sharing policy not mentioned in refereeing guidelines.\n",
      "\n",
      "11\n",
      "CIF ; \n",
      "no text.\n",
      "\n",
      "12\n",
      "CIF\n",
      "no text.\n",
      "\n",
      "13\n",
      "Code sharing not mentioned.\n",
      "Code sharing not mentioned.\n",
      "\n",
      "14\n",
      "No mention of dependencies for research code.\n",
      "No mention of dependencies for research code.\n",
      "\n",
      "15\n",
      "No mention of a persistent identifier or specifying a version of developed code.\n",
      "No mention of a persistent identifier or specifying a version of developed code.\n",
      "\n",
      "16\n",
      "The journal policies do not mention any code quality standards.\n",
      "The journal policies do not mention any code quality standards.\n",
      "\n",
      "17\n",
      "No mention of automatic testing to verify code functionality.\n",
      "No mention of automatic testing to verify code functionality.\n",
      "\n",
      "18\n",
      "No mention of standards for code documentation.\n",
      "No mention of standards for code documentation.\n",
      "\n",
      "19\n",
      "No mention of linting standards for code.\n",
      "No mention of linting standards for code.\n",
      "\n",
      "20\n",
      "No mention of standards for code development such as continuous integration.\n",
      "No mention of standards for code development such as continuous integration.\n",
      "\n"
     ]
    }
   ],
   "source": [
    "for q in grouped_questions['ACS']['accounts_of_chemical_research']:\n",
    "    print(q)\n",
    "    for a in grouped_questions['ACS']['accounts_of_chemical_research'][q].answers:\n",
    "        print(a.text)\n",
    "    print()"
   ]
  },
  {
   "cell_type": "markdown",
   "id": "1bc17263",
   "metadata": {},
   "source": [
    "Questions and answer can be saved to `yaml` files."
   ]
  },
  {
   "cell_type": "code",
   "execution_count": 149,
   "id": "a4d1df2e",
   "metadata": {},
   "outputs": [
    {
     "name": "stdout",
     "output_type": "stream",
     "text": [
      "ACS/accounts_of_chemical_research.yaml already exists. No data was written to prevent overwriting files modified by users. Manually delete these files if necessary.\n",
      "ACS/accounts_of_materials_research.yaml already exists. No data was written to prevent overwriting files modified by users. Manually delete these files if necessary.\n",
      "ACS/acs_applied_materials_and_interfaces.yaml already exists. No data was written to prevent overwriting files modified by users. Manually delete these files if necessary.\n",
      "ACS/acs_energy_letters.yaml already exists. No data was written to prevent overwriting files modified by users. Manually delete these files if necessary.\n",
      "ACS/acs_es_and_t_engineering.yaml already exists. No data was written to prevent overwriting files modified by users. Manually delete these files if necessary.\n",
      "ACS/acs_omega.yaml already exists. No data was written to prevent overwriting files modified by users. Manually delete these files if necessary.\n",
      "ACS/applied_materials_and_interfaces.yaml already exists. No data was written to prevent overwriting files modified by users. Manually delete these files if necessary.\n",
      "ACS/chemrxiv.yaml already exists. No data was written to prevent overwriting files modified by users. Manually delete these files if necessary.\n",
      "ACS/environmental_science_and_technology.yaml already exists. No data was written to prevent overwriting files modified by users. Manually delete these files if necessary.\n",
      "ACS/inorganic_chemistry.yaml already exists. No data was written to prevent overwriting files modified by users. Manually delete these files if necessary.\n",
      "ACS/jacs.yaml already exists. No data was written to prevent overwriting files modified by users. Manually delete these files if necessary.\n",
      "ACS/jacs_au.yaml already exists. No data was written to prevent overwriting files modified by users. Manually delete these files if necessary.\n",
      "ACS/journal_of_medicinal_chemistry.yaml already exists. No data was written to prevent overwriting files modified by users. Manually delete these files if necessary.\n",
      "ACS/journal_of_the_american_society_for_mass_spectrometry.yaml already exists. No data was written to prevent overwriting files modified by users. Manually delete these files if necessary.\n",
      "ACS/the_journal_of_organic_chemistry.yaml already exists. No data was written to prevent overwriting files modified by users. Manually delete these files if necessary.\n",
      "ACS/the_journal_of_physical_chemistry_c.yaml already exists. No data was written to prevent overwriting files modified by users. Manually delete these files if necessary.\n",
      "AIP/aip_advances.yaml already exists. No data was written to prevent overwriting files modified by users. Manually delete these files if necessary.\n",
      "AIP/apl_materials.yaml already exists. No data was written to prevent overwriting files modified by users. Manually delete these files if necessary.\n",
      "AIP/apl_photonics.yaml already exists. No data was written to prevent overwriting files modified by users. Manually delete these files if necessary.\n",
      "AIP/applied_physics_letters.yaml already exists. No data was written to prevent overwriting files modified by users. Manually delete these files if necessary.\n",
      "AIP/applied_physics_reviews.yaml already exists. No data was written to prevent overwriting files modified by users. Manually delete these files if necessary.\n",
      "AIP/chinese_journal_of_chemical_physics.yaml already exists. No data was written to prevent overwriting files modified by users. Manually delete these files if necessary.\n",
      "AIP/journal_of_applied_physics.yaml already exists. No data was written to prevent overwriting files modified by users. Manually delete these files if necessary.\n",
      "AIP/journal_of_mathematical_physics.yaml already exists. No data was written to prevent overwriting files modified by users. Manually delete these files if necessary.\n",
      "AIP/low_temperature_physics.yaml already exists. No data was written to prevent overwriting files modified by users. Manually delete these files if necessary.\n",
      "AIP/physics_of_fluids.yaml already exists. No data was written to prevent overwriting files modified by users. Manually delete these files if necessary.\n",
      "AIP/physics_of_plasmas.yaml already exists. No data was written to prevent overwriting files modified by users. Manually delete these files if necessary.\n",
      "AIP/review_of_scientific_instruments.yaml already exists. No data was written to prevent overwriting files modified by users. Manually delete these files if necessary.\n",
      "AIP/structural_dynamics.yaml already exists. No data was written to prevent overwriting files modified by users. Manually delete these files if necessary.\n",
      "AIP/the_journal_of_chemical_physics.yaml already exists. No data was written to prevent overwriting files modified by users. Manually delete these files if necessary.\n",
      "APS/physical_review_a.yaml already exists. No data was written to prevent overwriting files modified by users. Manually delete these files if necessary.\n",
      "APS/physical_review_applied.yaml already exists. No data was written to prevent overwriting files modified by users. Manually delete these files if necessary.\n",
      "APS/physical_review_b.yaml already exists. No data was written to prevent overwriting files modified by users. Manually delete these files if necessary.\n",
      "APS/physical_review_c.yaml already exists. No data was written to prevent overwriting files modified by users. Manually delete these files if necessary.\n",
      "APS/physical_review_d.yaml already exists. No data was written to prevent overwriting files modified by users. Manually delete these files if necessary.\n",
      "APS/physical_review_e.yaml already exists. No data was written to prevent overwriting files modified by users. Manually delete these files if necessary.\n",
      "APS/physical_review_letters.yaml already exists. No data was written to prevent overwriting files modified by users. Manually delete these files if necessary.\n",
      "APS/physical_review_materials.yaml already exists. No data was written to prevent overwriting files modified by users. Manually delete these files if necessary.\n",
      "APS/physical_review_research.yaml already exists. No data was written to prevent overwriting files modified by users. Manually delete these files if necessary.\n",
      "APS/physical_review_x.yaml already exists. No data was written to prevent overwriting files modified by users. Manually delete these files if necessary.\n",
      "APS/prx_quantum.yaml already exists. No data was written to prevent overwriting files modified by users. Manually delete these files if necessary.\n",
      "Bentham Science/current_nanoscience.yaml already exists. No data was written to prevent overwriting files modified by users. Manually delete these files if necessary.\n",
      "Bentham Science/current_organic_chemistry.yaml already exists. No data was written to prevent overwriting files modified by users. Manually delete these files if necessary.\n",
      "Bentham Science/current_organic_synthesis.yaml already exists. No data was written to prevent overwriting files modified by users. Manually delete these files if necessary.\n",
      "Bentham Science/current_organocatalysis.yaml already exists. No data was written to prevent overwriting files modified by users. Manually delete these files if necessary.\n",
      "Bentham Science/letters_in_organic_chemistry.yaml already exists. No data was written to prevent overwriting files modified by users. Manually delete these files if necessary.\n",
      "Bentham Science/mini-reviews_in_organic_chemistry.yaml already exists. No data was written to prevent overwriting files modified by users. Manually delete these files if necessary.\n",
      "EDP Sciences/astronomy_and_astrophysics.yaml already exists. No data was written to prevent overwriting files modified by users. Manually delete these files if necessary.\n",
      "EDP Sciences/e3s_web_of_conferences.yaml already exists. No data was written to prevent overwriting files modified by users. Manually delete these files if necessary.\n",
      "EDP Sciences/epj_web_of_conferences.yaml already exists. No data was written to prevent overwriting files modified by users. Manually delete these files if necessary.\n",
      "EDP Sciences/journal_of_the_european_optical_society-rapid_publications.yaml already exists. No data was written to prevent overwriting files modified by users. Manually delete these files if necessary.\n",
      "EDP Sciences/matec_web_of_conferences.yaml already exists. No data was written to prevent overwriting files modified by users. Manually delete these files if necessary.\n",
      "EDP Sciences/metallurgical_research_and_technology.yaml already exists. No data was written to prevent overwriting files modified by users. Manually delete these files if necessary.\n",
      "Elsevier/applied_catalysis_b_environment_and_energy.yaml already exists. No data was written to prevent overwriting files modified by users. Manually delete these files if necessary.\n",
      "Elsevier/chemical_engineering_journal.yaml already exists. No data was written to prevent overwriting files modified by users. Manually delete these files if necessary.\n",
      "Elsevier/composites_science_and_technology.yaml already exists. No data was written to prevent overwriting files modified by users. Manually delete these files if necessary.\n",
      "Elsevier/energy_storage_materials.yaml already exists. No data was written to prevent overwriting files modified by users. Manually delete these files if necessary.\n",
      "Elsevier/escience.yaml already exists. No data was written to prevent overwriting files modified by users. Manually delete these files if necessary.\n",
      "Elsevier/international_journal_of_thermal_sciences.yaml already exists. No data was written to prevent overwriting files modified by users. Manually delete these files if necessary.\n",
      "Elsevier/materials_today_proceedings.yaml already exists. No data was written to prevent overwriting files modified by users. Manually delete these files if necessary.\n",
      "Elsevier/optical_materials.yaml already exists. No data was written to prevent overwriting files modified by users. Manually delete these files if necessary.\n",
      "Elsevier/ssrn_electronic_journal.yaml already exists. No data was written to prevent overwriting files modified by users. Manually delete these files if necessary.\n",
      "Frontiers/frontiers_in_bioengineering_and_biotechnology.yaml already exists. No data was written to prevent overwriting files modified by users. Manually delete these files if necessary.\n",
      "Frontiers/frontiers_in_chemical_engineering.yaml already exists. No data was written to prevent overwriting files modified by users. Manually delete these files if necessary.\n",
      "Frontiers/frontiers_in_chemistry.yaml already exists. No data was written to prevent overwriting files modified by users. Manually delete these files if necessary.\n",
      "Frontiers/frontiers_in_energy_research.yaml already exists. No data was written to prevent overwriting files modified by users. Manually delete these files if necessary.\n",
      "Frontiers/frontiers_in_materials.yaml already exists. No data was written to prevent overwriting files modified by users. Manually delete these files if necessary.\n",
      "Frontiers/frontiers_in_nanotechnology.yaml already exists. No data was written to prevent overwriting files modified by users. Manually delete these files if necessary.\n",
      "Frontiers/frontiers_in_physics.yaml already exists. No data was written to prevent overwriting files modified by users. Manually delete these files if necessary.\n",
      "IEEE/ieee_robotics_and_automation_letters.yaml already exists. No data was written to prevent overwriting files modified by users. Manually delete these files if necessary.\n",
      "IEEE/ieee_transactions_on_dielectrics_and_electrical_insulation.yaml already exists. No data was written to prevent overwriting files modified by users. Manually delete these files if necessary.\n",
      "IEEE/ieee_transactions_on_industrial_electronics.yaml already exists. No data was written to prevent overwriting files modified by users. Manually delete these files if necessary.\n",
      "IEEE/ieee_transactions_on_transportation_electrification.yaml already exists. No data was written to prevent overwriting files modified by users. Manually delete these files if necessary.\n",
      "IEEE/ieee_transactions_on_ultrasonics_ferroelectrics_and_frequency_control.yaml already exists. No data was written to prevent overwriting files modified by users. Manually delete these files if necessary.\n",
      "IOP/2d_materials.yaml already exists. No data was written to prevent overwriting files modified by users. Manually delete these files if necessary.\n",
      "IOP/advances_in_natural_sciences_nanoscience_and_nanotechnology.yaml already exists. No data was written to prevent overwriting files modified by users. Manually delete these files if necessary.\n",
      "IOP/chinese_physics_b.yaml already exists. No data was written to prevent overwriting files modified by users. Manually delete these files if necessary.\n",
      "IOP/ecs_advances.yaml already exists. No data was written to prevent overwriting files modified by users. Manually delete these files if necessary.\n",
      "IOP/ecs_journal_of_solid_state_science_and_technology.yaml already exists. No data was written to prevent overwriting files modified by users. Manually delete these files if necessary.\n",
      "IOP/iop_conference_series_materials_science_and_engineering.yaml already exists. No data was written to prevent overwriting files modified by users. Manually delete these files if necessary.\n",
      "IOP/journal_of_physics_condensed_matter.yaml already exists. No data was written to prevent overwriting files modified by users. Manually delete these files if necessary.\n",
      "IOP/journal_of_physics_d.yaml already exists. No data was written to prevent overwriting files modified by users. Manually delete these files if necessary.\n",
      "IOP/journal_of_physics_energy.yaml already exists. No data was written to prevent overwriting files modified by users. Manually delete these files if necessary.\n",
      "IOP/journal_of_physics_photonics.yaml already exists. No data was written to prevent overwriting files modified by users. Manually delete these files if necessary.\n",
      "IOP/journal_of_semiconductors.yaml already exists. No data was written to prevent overwriting files modified by users. Manually delete these files if necessary.\n",
      "IOP/journal_of_the_electrochemical_society.yaml already exists. No data was written to prevent overwriting files modified by users. Manually delete these files if necessary.\n",
      "IOP/materials_research_express.yaml already exists. No data was written to prevent overwriting files modified by users. Manually delete these files if necessary.\n",
      "IOP/nanotechnology.yaml already exists. No data was written to prevent overwriting files modified by users. Manually delete these files if necessary.\n",
      "IOP/new_journal_of_physics.yaml already exists. No data was written to prevent overwriting files modified by users. Manually delete these files if necessary.\n",
      "IOP/plasma_sources_science_and_technology.yaml already exists. No data was written to prevent overwriting files modified by users. Manually delete these files if necessary.\n",
      "IOP/quantum_science_and_technology.yaml already exists. No data was written to prevent overwriting files modified by users. Manually delete these files if necessary.\n",
      "IOP/smart_materials_and_structures.yaml already exists. No data was written to prevent overwriting files modified by users. Manually delete these files if necessary.\n",
      "IUCr/acta_crystallographica_section_a.yaml already exists. No data was written to prevent overwriting files modified by users. Manually delete these files if necessary.\n",
      "IUCr/acta_crystallographica_section_b.yaml already exists. No data was written to prevent overwriting files modified by users. Manually delete these files if necessary.\n",
      "IUCr/acta_crystallographica_section_c.yaml already exists. No data was written to prevent overwriting files modified by users. Manually delete these files if necessary.\n",
      "IUCr/acta_crystallographica_section_d.yaml already exists. No data was written to prevent overwriting files modified by users. Manually delete these files if necessary.\n",
      "IUCr/acta_crystallographica_section_e.yaml already exists. No data was written to prevent overwriting files modified by users. Manually delete these files if necessary.\n",
      "IUCr/acta_crystallographica_section_f.yaml already exists. No data was written to prevent overwriting files modified by users. Manually delete these files if necessary.\n",
      "IUCr/iucrdata.yaml already exists. No data was written to prevent overwriting files modified by users. Manually delete these files if necessary.\n",
      "IUCr/iucrj.yaml already exists. No data was written to prevent overwriting files modified by users. Manually delete these files if necessary.\n",
      "IUCr/journal_of_applied_crystallography.yaml already exists. No data was written to prevent overwriting files modified by users. Manually delete these files if necessary.\n",
      "IUCr/journal_of_synchrotron_radiation.yaml already exists. No data was written to prevent overwriting files modified by users. Manually delete these files if necessary.\n",
      "MDPI/actuators.yaml already exists. No data was written to prevent overwriting files modified by users. Manually delete these files if necessary.\n",
      "MDPI/batteries.yaml already exists. No data was written to prevent overwriting files modified by users. Manually delete these files if necessary.\n",
      "MDPI/catalysts.yaml already exists. No data was written to prevent overwriting files modified by users. Manually delete these files if necessary.\n",
      "MDPI/coatings.yaml already exists. No data was written to prevent overwriting files modified by users. Manually delete these files if necessary.\n",
      "MDPI/crystals.yaml already exists. No data was written to prevent overwriting files modified by users. Manually delete these files if necessary.\n",
      "MDPI/marine_drugs.yaml already exists. No data was written to prevent overwriting files modified by users. Manually delete these files if necessary.\n",
      "MDPI/materials.yaml already exists. No data was written to prevent overwriting files modified by users. Manually delete these files if necessary.\n",
      "MDPI/membranes.yaml already exists. No data was written to prevent overwriting files modified by users. Manually delete these files if necessary.\n",
      "MDPI/molbank.yaml already exists. No data was written to prevent overwriting files modified by users. Manually delete these files if necessary.\n",
      "MDPI/molecules.yaml already exists. No data was written to prevent overwriting files modified by users. Manually delete these files if necessary.\n",
      "MDPI/nanomaterials.yaml already exists. No data was written to prevent overwriting files modified by users. Manually delete these files if necessary.\n",
      "MDPI/photonics.yaml already exists. No data was written to prevent overwriting files modified by users. Manually delete these files if necessary.\n",
      "MDPI/polymers.yaml already exists. No data was written to prevent overwriting files modified by users. Manually delete these files if necessary.\n",
      "MDPI/reactions.yaml already exists. No data was written to prevent overwriting files modified by users. Manually delete these files if necessary.\n",
      "MDPI/sensors.yaml already exists. No data was written to prevent overwriting files modified by users. Manually delete these files if necessary.\n",
      "Optica/applied_optics.yaml already exists. No data was written to prevent overwriting files modified by users. Manually delete these files if necessary.\n",
      "Optica/biomedical_optics_express.yaml already exists. No data was written to prevent overwriting files modified by users. Manually delete these files if necessary.\n",
      "Optica/journal_of_the_optical_society_of_america_b.yaml already exists. No data was written to prevent overwriting files modified by users. Manually delete these files if necessary.\n",
      "Optica/optica.yaml already exists. No data was written to prevent overwriting files modified by users. Manually delete these files if necessary.\n",
      "Optica/optical_materials_express.yaml already exists. No data was written to prevent overwriting files modified by users. Manually delete these files if necessary.\n",
      "Optica/optics_continuum.yaml already exists. No data was written to prevent overwriting files modified by users. Manually delete these files if necessary.\n",
      "Optica/optics_express.yaml already exists. No data was written to prevent overwriting files modified by users. Manually delete these files if necessary.\n",
      "Optica/optics_letters.yaml already exists. No data was written to prevent overwriting files modified by users. Manually delete these files if necessary.\n",
      "Optica/photonics_research.yaml already exists. No data was written to prevent overwriting files modified by users. Manually delete these files if necessary.\n",
      "Pleiades Publishing/atmospheric_and_oceanic_optics.yaml already exists. No data was written to prevent overwriting files modified by users. Manually delete these files if necessary.\n",
      "Pleiades Publishing/journal_of_experimental_and_theoretical_physics.yaml already exists. No data was written to prevent overwriting files modified by users. Manually delete these files if necessary.\n",
      "Pleiades Publishing/membranes_and_membrane_technologies.yaml already exists. No data was written to prevent overwriting files modified by users. Manually delete these files if necessary.\n",
      "Pleiades Publishing/physical_mesomechanics.yaml already exists. No data was written to prevent overwriting files modified by users. Manually delete these files if necessary.\n",
      "Pleiades Publishing/physics_of_metals_and_metallography.yaml already exists. No data was written to prevent overwriting files modified by users. Manually delete these files if necessary.\n",
      "Pleiades Publishing/russian_journal_of_general_chemistry.yaml already exists. No data was written to prevent overwriting files modified by users. Manually delete these files if necessary.\n",
      "Pleiades Publishing/russian_journal_of_inorganic_chemistry.yaml already exists. No data was written to prevent overwriting files modified by users. Manually delete these files if necessary.\n",
      "Pleiades Publishing/russian_journal_of_organic_chemistry.yaml already exists. No data was written to prevent overwriting files modified by users. Manually delete these files if necessary.\n",
      "Pleiades Publishing/russian_journal_of_physical_chemistry_a.yaml already exists. No data was written to prevent overwriting files modified by users. Manually delete these files if necessary.\n",
      "RSC/analyst.yaml already exists. No data was written to prevent overwriting files modified by users. Manually delete these files if necessary.\n",
      "RSC/biomaterials_science.yaml already exists. No data was written to prevent overwriting files modified by users. Manually delete these files if necessary.\n",
      "RSC/chemical_communications.yaml already exists. No data was written to prevent overwriting files modified by users. Manually delete these files if necessary.\n",
      "RSC/chemical_science.yaml already exists. No data was written to prevent overwriting files modified by users. Manually delete these files if necessary.\n",
      "RSC/dalton_transactions.yaml already exists. No data was written to prevent overwriting files modified by users. Manually delete these files if necessary.\n",
      "RSC/digital_discovery.yaml already exists. No data was written to prevent overwriting files modified by users. Manually delete these files if necessary.\n",
      "RSC/energy_advances.yaml already exists. No data was written to prevent overwriting files modified by users. Manually delete these files if necessary.\n",
      "RSC/energy_and_environmental_science.yaml already exists. No data was written to prevent overwriting files modified by users. Manually delete these files if necessary.\n",
      "RSC/environmental_science_nano.yaml already exists. No data was written to prevent overwriting files modified by users. Manually delete these files if necessary.\n",
      "RSC/journal_of_materials_chemistry_a.yaml already exists. No data was written to prevent overwriting files modified by users. Manually delete these files if necessary.\n",
      "RSC/materials_horizons.yaml already exists. No data was written to prevent overwriting files modified by users. Manually delete these files if necessary.\n",
      "RSC/nanoscale_advances.yaml already exists. No data was written to prevent overwriting files modified by users. Manually delete these files if necessary.\n",
      "RSC/new_journal_of_chemistry.yaml already exists. No data was written to prevent overwriting files modified by users. Manually delete these files if necessary.\n",
      "RSC/physical_chemistry_chemical_physics.yaml already exists. No data was written to prevent overwriting files modified by users. Manually delete these files if necessary.\n",
      "RSC/rsc_advances.yaml already exists. No data was written to prevent overwriting files modified by users. Manually delete these files if necessary.\n",
      "Springer Nature/biomedical_microdevices.yaml already exists. No data was written to prevent overwriting files modified by users. Manually delete these files if necessary.\n",
      "Springer Nature/journal_of_materials_science_materials_in_electronics.yaml already exists. No data was written to prevent overwriting files modified by users. Manually delete these files if necessary.\n",
      "Springer Nature/materials_science.yaml already exists. No data was written to prevent overwriting files modified by users. Manually delete these files if necessary.\n",
      "Springer Nature/medicinal_chemistry_research.yaml already exists. No data was written to prevent overwriting files modified by users. Manually delete these files if necessary.\n",
      "Springer Nature/nano-micro_letters.yaml already exists. No data was written to prevent overwriting files modified by users. Manually delete these files if necessary.\n",
      "Springer Nature/nature.yaml already exists. No data was written to prevent overwriting files modified by users. Manually delete these files if necessary.\n",
      "Springer Nature/nature_communications.yaml already exists. No data was written to prevent overwriting files modified by users. Manually delete these files if necessary.\n",
      "Springer Nature/nature_energy.yaml already exists. No data was written to prevent overwriting files modified by users. Manually delete these files if necessary.\n",
      "Springer Nature/scientific_reports.yaml already exists. No data was written to prevent overwriting files modified by users. Manually delete these files if necessary.\n",
      "Taylor & Francis/advanced_composite_materials.yaml already exists. No data was written to prevent overwriting files modified by users. Manually delete these files if necessary.\n",
      "Taylor & Francis/analytical_letters.yaml already exists. No data was written to prevent overwriting files modified by users. Manually delete these files if necessary.\n",
      "Taylor & Francis/ferroelectrics.yaml already exists. No data was written to prevent overwriting files modified by users. Manually delete these files if necessary.\n",
      "Taylor & Francis/green_chemistry_letters_and_reviews.yaml already exists. No data was written to prevent overwriting files modified by users. Manually delete these files if necessary.\n",
      "Taylor & Francis/international_journal_of_nanomedicine.yaml already exists. No data was written to prevent overwriting files modified by users. Manually delete these files if necessary.\n",
      "Taylor & Francis/journal_of_asian_ceramic_societies.yaml already exists. No data was written to prevent overwriting files modified by users. Manually delete these files if necessary.\n",
      "Taylor & Francis/journal_of_macromolecular_science_part_b.yaml already exists. No data was written to prevent overwriting files modified by users. Manually delete these files if necessary.\n",
      "Taylor & Francis/liquid_crystals.yaml already exists. No data was written to prevent overwriting files modified by users. Manually delete these files if necessary.\n",
      "Taylor & Francis/materials_research_letters.yaml already exists. No data was written to prevent overwriting files modified by users. Manually delete these files if necessary.\n",
      "Taylor & Francis/molecular_crystals_and_liquid_crystals.yaml already exists. No data was written to prevent overwriting files modified by users. Manually delete these files if necessary.\n",
      "Taylor & Francis/molecular_physics.yaml already exists. No data was written to prevent overwriting files modified by users. Manually delete these files if necessary.\n",
      "Taylor & Francis/nanotoxicology.yaml already exists. No data was written to prevent overwriting files modified by users. Manually delete these files if necessary.\n",
      "Taylor & Francis/polycyclic_aromatic_compounds.yaml already exists. No data was written to prevent overwriting files modified by users. Manually delete these files if necessary.\n",
      "Taylor & Francis/science_and_technology_of_advanced_materials.yaml already exists. No data was written to prevent overwriting files modified by users. Manually delete these files if necessary.\n",
      "Taylor & Francis/waves_in_random_and_complex_media.yaml already exists. No data was written to prevent overwriting files modified by users. Manually delete these files if necessary.\n",
      "Wiley/advanced_energy_materials.yaml already exists. No data was written to prevent overwriting files modified by users. Manually delete these files if necessary.\n",
      "Wiley/advanced_functional_materials.yaml already exists. No data was written to prevent overwriting files modified by users. Manually delete these files if necessary.\n",
      "Wiley/advanced_materials.yaml already exists. No data was written to prevent overwriting files modified by users. Manually delete these files if necessary.\n",
      "Wiley/angewandte_chemie.yaml already exists. No data was written to prevent overwriting files modified by users. Manually delete these files if necessary.\n",
      "Wiley/angewandte_chemie_international_edition.yaml already exists. No data was written to prevent overwriting files modified by users. Manually delete these files if necessary.\n",
      "Wiley/batteries_and_supercaps.yaml already exists. No data was written to prevent overwriting files modified by users. Manually delete these files if necessary.\n",
      "Wiley/carbon_energy.yaml already exists. No data was written to prevent overwriting files modified by users. Manually delete these files if necessary.\n",
      "Wiley/ce-papers.yaml already exists. No data was written to prevent overwriting files modified by users. Manually delete these files if necessary.\n",
      "Wiley/chemistry_a_european_journal.yaml already exists. No data was written to prevent overwriting files modified by users. Manually delete these files if necessary.\n",
      "Wiley/chemistryselect.yaml already exists. No data was written to prevent overwriting files modified by users. Manually delete these files if necessary.\n",
      "Wiley/chirality.yaml already exists. No data was written to prevent overwriting files modified by users. Manually delete these files if necessary.\n",
      "Wiley/infomat.yaml already exists. No data was written to prevent overwriting files modified by users. Manually delete these files if necessary.\n",
      "Wiley/journal_of_physical_organic_chemistry.yaml already exists. No data was written to prevent overwriting files modified by users. Manually delete these files if necessary.\n",
      "Wiley/microscopy_research_and_technique.yaml already exists. No data was written to prevent overwriting files modified by users. Manually delete these files if necessary.\n",
      "Wiley/small.yaml already exists. No data was written to prevent overwriting files modified by users. Manually delete these files if necessary.\n"
     ]
    }
   ],
   "source": [
    "save_answers_to_yaml(grouped_questions, parent_folder='../../data/processed/all_answers', save_only = ['ACS'])"
   ]
  },
  {
   "cell_type": "markdown",
   "id": "63a8215f",
   "metadata": {},
   "source": [
    "## Resolve discrepancies"
   ]
  },
  {
   "cell_type": "markdown",
   "id": "1809eb4c",
   "metadata": {},
   "source": [
    "The `Question` class has a `.resolve_discrepancies` method which updates `Question.anwsers` with the correct answer."
   ]
  },
  {
   "cell_type": "markdown",
   "id": "9a40c58d",
   "metadata": {},
   "source": [
    "For example, let's consider IOP's 2D Materials. Question 7 has discrepancies."
   ]
  },
  {
   "cell_type": "code",
   "execution_count": null,
   "id": "7e948e54",
   "metadata": {},
   "outputs": [],
   "source": [
    "grouped_questions['IOP']['2d_materials'][7].has_discrepancies()"
   ]
  },
  {
   "cell_type": "markdown",
   "id": "2a1944b9",
   "metadata": {},
   "source": [
    "These are the answers given by the two encoders:"
   ]
  },
  {
   "cell_type": "code",
   "execution_count": null,
   "id": "66b41318",
   "metadata": {},
   "outputs": [],
   "source": [
    "grouped_questions['IOP']['2d_materials'][7].print_qa()"
   ]
  },
  {
   "cell_type": "markdown",
   "id": "9ccc8677",
   "metadata": {},
   "source": [
    "Inconsistencies can be removed manually, passing the index of the correct respondent."
   ]
  },
  {
   "cell_type": "code",
   "execution_count": null,
   "id": "37f18086",
   "metadata": {},
   "outputs": [],
   "source": [
    "grouped_questions['IOP']['2d_materials'][7].resolve_discrepancy(correct_answer = 0)"
   ]
  },
  {
   "cell_type": "markdown",
   "id": "55dc4cd5",
   "metadata": {},
   "source": [
    "After doing this, the `.get_final_answer()` method returns the correct answer."
   ]
  },
  {
   "cell_type": "code",
   "execution_count": null,
   "id": "bbee9e63",
   "metadata": {},
   "outputs": [],
   "source": [
    "grouped_questions['IOP']['2d_materials'][7].get_final_answer()"
   ]
  },
  {
   "cell_type": "markdown",
   "id": "50efb2f5",
   "metadata": {},
   "source": [
    "Alternatively, inconsistencies can be solved with small additions to the `yaml` files written before."
   ]
  },
  {
   "cell_type": "markdown",
   "id": "6ecbfd0d",
   "metadata": {},
   "source": [
    "Each file, one per journal, has this form:\n",
    "\n",
    "```\n",
    "...\n",
    "...\n",
    "3:\n",
    "  text: 3. Data sharing requirements in RDP\n",
    "  has_discrepancies: true\n",
    "  0:\n",
    "    text: Data sharing encouraged but optional.\n",
    "    explanation: All ACS journals strongly encourage authors to make the research\n",
    "      data underlying their articles publicly available at the time of publication.\n",
    "  1:\n",
    "    text: Data sharing required but not publicly (e.g. available upon request is allowed).\n",
    "    explanation: \"Text from Journal Research Data Policy : \\n\\\" All ACS journals strongly\\\n",
    "      \\ encourage authors to make the research data underlying their articles publicly\\\n",
    "      \\ available at the time of publication. \\\"\"\n",
    "  correct_answer: null\n",
    "...\n",
    "...\n",
    "```\n",
    "\n",
    "Only questions where `has_discrepancies` is `true` should be taken care of. \n",
    "\n",
    "The correct answer can be chosen writing the encoder id in `correct_answer`. \n",
    "\n",
    "For example, in this case it seems that the first answer is correct, as the RDP only encourages (albeit strongly) data publication.\n",
    "\n",
    "Therefore, one can write\n",
    "\n",
    "```\n",
    "  correct_answer: 0\n",
    "```\n",
    "\n",
    "and save the file. Once all questions with discrepancies are fixed, one can save the `yaml` file and proceed with the next journal."
   ]
  },
  {
   "cell_type": "markdown",
   "id": "94a3b9b8",
   "metadata": {},
   "source": [
    "For the sake of illustrating the next functions, let's assume the correct answer is always the first, and manually \"fix\" all the q&a."
   ]
  },
  {
   "cell_type": "code",
   "execution_count": 150,
   "id": "98b7f113",
   "metadata": {},
   "outputs": [],
   "source": [
    "from copy import deepcopy\n",
    "fixed_grouped_questions = deepcopy(grouped_questions)\n",
    "for p in fixed_grouped_questions:\n",
    "    for j in fixed_grouped_questions[p]:\n",
    "        for q in fixed_grouped_questions[p][j]:\n",
    "            fixed_grouped_questions[p][j][q].resolve_discrepancy(correct_answer = 0)"
   ]
  },
  {
   "cell_type": "markdown",
   "id": "119f4b20",
   "metadata": {},
   "source": [
    "## `Publisher` and `Journal` classes"
   ]
  },
  {
   "cell_type": "markdown",
   "id": "cd5e934e",
   "metadata": {},
   "source": [
    "In case all the q&a files are fixed, load the `yaml` files and define a new, fixed, `grouped_questions` dictionary, uncommenting the next cell.\n",
    "\n",
    "Otherwise, keep the current `grouped_questions` dictionary as given by the preceding cell."
   ]
  },
  {
   "cell_type": "code",
   "execution_count": null,
   "id": "27bf45f8",
   "metadata": {},
   "outputs": [],
   "source": [
    "# fixed_grouped_questions = load_answers_from_yaml(parent_folder='../../data/processed/all_answers')"
   ]
  },
  {
   "cell_type": "markdown",
   "id": "65428355",
   "metadata": {},
   "source": [
    "Define a dictionary of `Publisher` instances containing `Journal` instances with the information taken from `grouped_questions`."
   ]
  },
  {
   "cell_type": "code",
   "execution_count": null,
   "id": "fb51bbc5",
   "metadata": {},
   "outputs": [],
   "source": [
    "publishers = {}\n",
    "\n",
    "for publisher_name, questions in grouped_questions.items():\n",
    "    publishers[publisher_name] = Publisher.from_questions(publisher_name, questions)"
   ]
  },
  {
   "cell_type": "markdown",
   "id": "2358a24f",
   "metadata": {},
   "source": [
    "For example, the ACS publisher instance is"
   ]
  },
  {
   "cell_type": "code",
   "execution_count": null,
   "id": "b086c6bd",
   "metadata": {},
   "outputs": [],
   "source": [
    "publishers['ACS']"
   ]
  },
  {
   "cell_type": "markdown",
   "id": "ff83dd87",
   "metadata": {},
   "source": [
    "and the journals it contains are"
   ]
  },
  {
   "cell_type": "code",
   "execution_count": null,
   "id": "5474f9a5",
   "metadata": {},
   "outputs": [],
   "source": [
    "publishers['ACS'].list_journals()"
   ]
  },
  {
   "cell_type": "markdown",
   "id": "5b69544e",
   "metadata": {},
   "source": [
    "and one of the jornals, e.g. JACS, is"
   ]
  },
  {
   "cell_type": "code",
   "execution_count": null,
   "id": "b3dd1a9a",
   "metadata": {},
   "outputs": [],
   "source": [
    "publishers['ACS'].get_journal('jacs')"
   ]
  }
 ],
 "metadata": {
  "kernelspec": {
   "display_name": "Python 3 (ipykernel)",
   "language": "python",
   "name": "python3"
  },
  "language_info": {
   "codemirror_mode": {
    "name": "ipython",
    "version": 3
   },
   "file_extension": ".py",
   "mimetype": "text/x-python",
   "name": "python",
   "nbconvert_exporter": "python",
   "pygments_lexer": "ipython3",
   "version": "3.11.8"
  }
 },
 "nbformat": 4,
 "nbformat_minor": 5
}
