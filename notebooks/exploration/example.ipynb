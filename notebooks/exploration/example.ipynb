{
 "cells": [
  {
   "cell_type": "code",
   "execution_count": 1,
   "id": "329991a1",
   "metadata": {},
   "outputs": [],
   "source": [
    "%load_ext autoreload\n",
    "%autoreload 2"
   ]
  },
  {
   "cell_type": "code",
   "execution_count": 2,
   "id": "0ab0b216-7fdd-4b0e-ad71-d4604f6d7e76",
   "metadata": {},
   "outputs": [],
   "source": [
    "from daemon_analysis_tools.file_handling import load_and_process_csv\n",
    "from daemon_analysis_tools.data.utils import group_questions_by_journal\n",
    "from daemon_analysis_tools.data.publisher import Publisher\n",
    "from daemon_analysis_tools.file_handling import save_answers_to_yaml, load_answers_from_yaml"
   ]
  },
  {
   "cell_type": "markdown",
   "id": "f4721670-c95c-48cb-bdef-f97b4618114a",
   "metadata": {},
   "source": [
    "Load and process data:\n",
    "- Group answers by publisher and journal, trying to uniform names written in slightly different ways.\n",
    "- Store in a DataFrame"
   ]
  },
  {
   "cell_type": "code",
   "execution_count": 13,
   "id": "f56a64b0",
   "metadata": {},
   "outputs": [],
   "source": [
    "data = load_and_process_csv('../../data/raw/rdp.csv')"
   ]
  },
  {
   "cell_type": "markdown",
   "id": "25f6f4d3",
   "metadata": {},
   "source": [
    "Get a `dict` labeled by publisher names of `dict`s labeled by journal names of `dict`s of `Question` instances. The `.answer` attribute contains the answers given by the respondents and the explanations text to motivate it."
   ]
  },
  {
   "cell_type": "code",
   "execution_count": 18,
   "id": "95536961",
   "metadata": {},
   "outputs": [],
   "source": [
    "grouped_questions = group_questions_by_journal(data)"
   ]
  },
  {
   "cell_type": "markdown",
   "id": "b1ac9dc1",
   "metadata": {},
   "source": [
    "Visualize the questions and answers given by the encoders (e.g. for ACS Accounts of Chemical Research)"
   ]
  },
  {
   "cell_type": "code",
   "execution_count": 19,
   "id": "44bc4054",
   "metadata": {},
   "outputs": [
    {
     "name": "stdout",
     "output_type": "stream",
     "text": [
      "1\n",
      "Research Data Policy (RDP) exists.\n",
      "Research Data Policy (RDP) exists.\n",
      "\n",
      "3\n",
      "Data sharing encouraged but optional.\n",
      "Data sharing required but not publicly (e.g. available upon request is allowed).\n",
      "\n",
      "4\n",
      "Public data sharing on a FAIR repository required only for specific types of data (e.g. genetic data has to be shared on a FAIR repository but no other data).\n",
      "Public data sharing on a FAIR repository encouraged.\n",
      "\n",
      "2\n",
      "Mentioned in the RDP but optional.\n",
      "Mentioned in the RDP but optional.\n",
      "\n",
      "5\n",
      "DOIs or other persistent identifiers recommended for datasets or codes.\n",
      "DOIs or other persistent identifiers recommended for datasets or codes.\n",
      "\n",
      "7\n",
      "Required data must be available after an embargo period.\n",
      "Required data must be available prior to official publication.\n",
      "\n",
      "8\n",
      "Public online repositories recommended in RDP.\n",
      "Data sharing in supplementary material or hosting by journal recommended in RDP.\n",
      "\n",
      "9\n",
      "Explicit mention of a certain license/license type in RDP.\n",
      "Explicit mention of a certain license/license type in RDP.\n",
      "\n",
      "10\n",
      "Data sharing policy not mentioned in refereeing guidelines.\n",
      "Data sharing policy not mentioned in refereeing guidelines.\n",
      "\n",
      "11\n",
      "CIF ; \n",
      "no text.\n",
      "\n",
      "12\n",
      "CIF\n",
      "no text.\n",
      "\n",
      "13\n",
      "Code sharing not mentioned.\n",
      "Code sharing not mentioned.\n",
      "\n",
      "14\n",
      "No mention of dependencies for research code.\n",
      "No mention of dependencies for research code.\n",
      "\n",
      "15\n",
      "No mention of a persistent identifier or specifying a version of developed code.\n",
      "No mention of a persistent identifier or specifying a version of developed code.\n",
      "\n",
      "16\n",
      "The journal policies do not mention any code quality standards.\n",
      "The journal policies do not mention any code quality standards.\n",
      "\n",
      "17\n",
      "No mention of automatic testing to verify code functionality.\n",
      "No mention of automatic testing to verify code functionality.\n",
      "\n",
      "18\n",
      "No mention of standards for code documentation.\n",
      "No mention of standards for code documentation.\n",
      "\n",
      "19\n",
      "No mention of linting standards for code.\n",
      "No mention of linting standards for code.\n",
      "\n",
      "20\n",
      "No mention of standards for code development such as continuous integration.\n",
      "No mention of standards for code development such as continuous integration.\n",
      "\n"
     ]
    }
   ],
   "source": [
    "for q in grouped_questions['ACS']['accounts_of_chemical_research']:\n",
    "    print(q)\n",
    "    for a in grouped_questions['ACS']['accounts_of_chemical_research'][q].answers:\n",
    "        print(a.text)\n",
    "    print()"
   ]
  },
  {
   "cell_type": "markdown",
   "id": "1bc17263",
   "metadata": {},
   "source": [
    "Questions and answer can be saved to `yaml` files."
   ]
  },
  {
   "cell_type": "code",
   "execution_count": 20,
   "id": "a4d1df2e",
   "metadata": {},
   "outputs": [
    {
     "name": "stdout",
     "output_type": "stream",
     "text": [
      "ACS/accounts_of_chemical_research.yaml already exists. No data was written to prevent overwriting files modified by users. Manually delete these files if necessary.\n",
      "ACS/accounts_of_materials_research.yaml already exists. No data was written to prevent overwriting files modified by users. Manually delete these files if necessary.\n",
      "ACS/acs_applied_materials_and_interfaces.yaml already exists. No data was written to prevent overwriting files modified by users. Manually delete these files if necessary.\n",
      "ACS/acs_energy_letters.yaml already exists. No data was written to prevent overwriting files modified by users. Manually delete these files if necessary.\n",
      "ACS/acs_es_and_t_engineering.yaml already exists. No data was written to prevent overwriting files modified by users. Manually delete these files if necessary.\n",
      "ACS/acs_omega.yaml already exists. No data was written to prevent overwriting files modified by users. Manually delete these files if necessary.\n",
      "ACS/applied_materials_and_interfaces.yaml already exists. No data was written to prevent overwriting files modified by users. Manually delete these files if necessary.\n",
      "ACS/chemrxiv.yaml already exists. No data was written to prevent overwriting files modified by users. Manually delete these files if necessary.\n",
      "ACS/environmental_science_and_technology.yaml already exists. No data was written to prevent overwriting files modified by users. Manually delete these files if necessary.\n",
      "ACS/inorganic_chemistry.yaml already exists. No data was written to prevent overwriting files modified by users. Manually delete these files if necessary.\n",
      "ACS/jacs.yaml already exists. No data was written to prevent overwriting files modified by users. Manually delete these files if necessary.\n",
      "ACS/jacs_au.yaml already exists. No data was written to prevent overwriting files modified by users. Manually delete these files if necessary.\n",
      "ACS/journal_of_medicinal_chemistry.yaml already exists. No data was written to prevent overwriting files modified by users. Manually delete these files if necessary.\n",
      "ACS/journal_of_the_american_society_for_mass_spectrometry.yaml already exists. No data was written to prevent overwriting files modified by users. Manually delete these files if necessary.\n",
      "ACS/the_journal_of_organic_chemistry.yaml already exists. No data was written to prevent overwriting files modified by users. Manually delete these files if necessary.\n",
      "ACS/the_journal_of_physical_chemistry_c.yaml already exists. No data was written to prevent overwriting files modified by users. Manually delete these files if necessary.\n"
     ]
    }
   ],
   "source": [
    "save_answers_to_yaml(grouped_questions, parent_folder='../../data/processed/all_answers', save_only = ['ACS'])"
   ]
  },
  {
   "cell_type": "markdown",
   "id": "63a8215f",
   "metadata": {},
   "source": [
    "## Resolve discrepancies"
   ]
  },
  {
   "cell_type": "markdown",
   "id": "1809eb4c",
   "metadata": {},
   "source": [
    "The `Question` class has a `.resolve_discrepancies` method which updates `Question.anwsers` with the correct answer."
   ]
  },
  {
   "cell_type": "markdown",
   "id": "9a40c58d",
   "metadata": {},
   "source": [
    "For example, let's consider IOP's 2D Materials. Question 7 has discrepancies."
   ]
  },
  {
   "cell_type": "code",
   "execution_count": 21,
   "id": "7e948e54",
   "metadata": {},
   "outputs": [
    {
     "data": {
      "text/plain": [
       "True"
      ]
     },
     "execution_count": 21,
     "metadata": {},
     "output_type": "execute_result"
    }
   ],
   "source": [
    "grouped_questions['IOP']['2d_materials'][7].has_discrepancies()"
   ]
  },
  {
   "cell_type": "markdown",
   "id": "2a1944b9",
   "metadata": {},
   "source": [
    "These are the answers given by the two encoders:"
   ]
  },
  {
   "cell_type": "code",
   "execution_count": 22,
   "id": "66b41318",
   "metadata": {},
   "outputs": [
    {
     "name": "stdout",
     "output_type": "stream",
     "text": [
      "7. Timing of data release\n",
      "  Resp. 0:\n",
      "    Answer: Required data must be available prior to official publication.\n",
      "    Explanation: Authors must specify the reason why they are unable to make their research data publicly available at the point of publication and this reason will be included in the published article.\n",
      "  Resp. 1:\n",
      "    Answer: Required data must be available after official publication.\n",
      "    Explanation: \"Authors must agree to make any data required to support or replicate claims made in an article available privately to the journal’s editors, reviewers and readers without undue restriction or delay if requested.\"\n"
     ]
    }
   ],
   "source": [
    "grouped_questions['IOP']['2d_materials'][7].print_qa()"
   ]
  },
  {
   "cell_type": "markdown",
   "id": "9ccc8677",
   "metadata": {},
   "source": [
    "Inconsistencies can be removed manually, passing the index of the correct respondent and the reason for the discrepancy. The latter should be one of:\n",
    "- Text missing\n",
    "- Language understanding\n",
    "- Difficulty in matching information and question\n",
    "- Other: free text"
   ]
  },
  {
   "cell_type": "code",
   "execution_count": 23,
   "id": "37f18086",
   "metadata": {},
   "outputs": [],
   "source": [
    "grouped_questions['IOP']['2d_materials'][7].resolve_discrepancy(correct_answer = 0, discrepancy_reason= 'Language understanding')"
   ]
  },
  {
   "cell_type": "markdown",
   "id": "55dc4cd5",
   "metadata": {},
   "source": [
    "After doing this, the `.get_final_answer()` method returns the correct answer."
   ]
  },
  {
   "cell_type": "code",
   "execution_count": 24,
   "id": "bbee9e63",
   "metadata": {},
   "outputs": [
    {
     "data": {
      "text/plain": [
       "Answer(text=Required data must be available prior to official publication., explanation=Authors must specify the reason why they are unable to make their research data publicly available at the point of publication and this reason will be included in the published article.)"
      ]
     },
     "execution_count": 24,
     "metadata": {},
     "output_type": "execute_result"
    }
   ],
   "source": [
    "grouped_questions['IOP']['2d_materials'][7].get_final_answer()"
   ]
  },
  {
   "cell_type": "markdown",
   "id": "50efb2f5",
   "metadata": {},
   "source": [
    "Alternatively, inconsistencies can be solved with small additions to the `yaml` files written before."
   ]
  },
  {
   "cell_type": "markdown",
   "id": "6ecbfd0d",
   "metadata": {},
   "source": [
    "Each file, one per journal, has this form:\n",
    "\n",
    "```\n",
    "...\n",
    "...\n",
    "3:\n",
    "  text: 3. Data sharing requirements in RDP\n",
    "  has_discrepancies: true\n",
    "  0:\n",
    "    text: Data sharing encouraged but optional.\n",
    "    explanation: All ACS journals strongly encourage authors to make the research\n",
    "      data underlying their articles publicly available at the time of publication.\n",
    "  1:\n",
    "    text: Data sharing required but not publicly (e.g. available upon request is allowed).\n",
    "    explanation: \"Text from Journal Research Data Policy : \\n\\\" All ACS journals strongly\\\n",
    "      \\ encourage authors to make the research data underlying their articles publicly\\\n",
    "      \\ available at the time of publication. \\\"\"\n",
    "  correct_answer: null\n",
    "...\n",
    "...\n",
    "```\n",
    "\n",
    "Only questions where `has_discrepancies` is `true` should be taken care of. \n",
    "\n",
    "The correct answer can be chosen writing the encoder id in `correct_answer`. \n",
    "\n",
    "For example, in this case it seems that the first answer is correct, as the RDP only encourages (albeit strongly) data publication.\n",
    "\n",
    "Therefore, one can write\n",
    "\n",
    "```\n",
    "  correct_answer: 0\n",
    "```\n",
    "\n",
    "and save the file. Once all questions with discrepancies are fixed, one can save the `yaml` file and proceed with the next journal."
   ]
  },
  {
   "cell_type": "markdown",
   "id": "94a3b9b8",
   "metadata": {},
   "source": [
    "For the sake of illustrating the next functions, let's assume the correct answer is always the first, and manually \"fix\" all the q&a."
   ]
  },
  {
   "cell_type": "code",
   "execution_count": 36,
   "id": "fd2b2717",
   "metadata": {},
   "outputs": [
    {
     "data": {
      "text/plain": [
       "{1: Question(text=1. Existence of research data policy, answers=[Answer(text=Research Data Policy (RDP) exists., explanation=IOP Publishing recognises the incredible potential of the open science. Our Journals have adopted progressive data policies and we include data availability statement in all our articles.), Answer(text=Research Data Policy (RDP) exists., explanation=2D Materials has adopted IOP Publishing’s research data policy. Please check that your article complies with the policy before submission.)]),\n",
       " 3: Question(text=3. Data sharing requirements in RDP, answers=[Answer(text=Data sharing encouraged but optional., explanation=Authors are encouraged to share their data but not required to.), Answer(text=Data sharing encouraged but optional., explanation=From the RDP:\n",
       " \n",
       " \"Authors are encouraged to share their data but not required to. However, if your data will not be made publicly available then there are two related requirements:\n",
       " 1) Authors must specify the reason why they are unable to make their research data publicly available at the point of publication and this reason will be included in the published article. Further information about this requirement is set out below.\n",
       " 2) Authors must agree to make any data required to support or replicate claims made in an article available privately to the journal’s editors, reviewers and readers without undue restriction or delay if requested.\"\n",
       " \n",
       " They write authors are not required to share data, but in point (2) they also write that requested data must be made available upon request. So I seleced the weaker option \"Data sharing encouraged but optional\", even though the third option could also fit.)]),\n",
       " 4: Question(text=4. FAIR data sharing (see https://www.go-fair.org/fair-principles/ for a definition of FAIR), answers=[Answer(text=Public data sharing on a FAIR repository encouraged., explanation=Sharing research data via an established data repository is more likely to mean that data is findable, accessible, interoperable and reusable (‘FAIR’).\n",
       " \n",
       " [...]\n",
       " \n",
       " The journal encourages authors to share research data using data formats and standards recognised by their research community. Please see www.FAIRsharing.org for more information on established data sharing formats and standards.), Answer(text=Public data sharing on a FAIR repository encouraged., explanation=The journal encourages authors to share research data using data formats and standards recognised by their research community. Please see www.FAIRsharing.org for more information on established data sharing formats and standards.)]),\n",
       " 2: Question(text=2. Data availability statement, answers=[Answer(text=Required according to the RDP., explanation=The journal requires authors to include a data availability statement in their article. The provision of a data availability statement will be verified as a condition of publication.), Answer(text=Required according to the RDP., explanation=The journal requires authors to include a data availability statement in their article. The provision of a data availability statement will be verified as a condition of publication.)]),\n",
       " 5: Question(text=5. Citability and findability of data , answers=[Answer(text=DOIs or other persistent identifiers recommended for datasets or codes., explanation=If you share associated software and code via GitHub then we recommend that you deposit a copy in a repository that issues a Digital Object Identifier (DOI). The DOI provides a permanent reference point and supports future citation of your software and code.\n",
       " \n",
       " [...]\n",
       " \n",
       " Sharing research data as supplementary information files is permitted but discouraged because it will not receive a unique and citable identifier.), Answer(text=DOIs or other persistent identifiers recommended for datasets or codes., explanation=If you share associated software and code via GitHub then we recommend that you deposit a copy in a repository that issues a Digital Object Identifier (DOI). The DOI provides a permanent reference point and supports future citation of your software and code.)]),\n",
       " 7: Question(text=7. Timing of data release, answers=[Answer(text=Required data must be available prior to official publication., explanation=Authors must specify the reason why they are unable to make their research data publicly available at the point of publication and this reason will be included in the published article.), Answer(text=Required data must be available after official publication., explanation=\"Authors must agree to make any data required to support or replicate claims made in an article available privately to the journal’s editors, reviewers and readers without undue restriction or delay if requested.\")]),\n",
       " 8: Question(text=8. Recommended data sharing method, answers=[Answer(text=Public online repositories recommended in RDP., explanation=The preferred mechanism for sharing research data is via data repositories. Authors are encouraged to deposit their research data in a repository that has been widely adopted within their research community but, if none is available, authors may use a general data repository.\n",
       " \n",
       " Examples of general data repositories include:\n",
       " \n",
       " Dryad (www.datadryad.org)\n",
       " Figshare (www.figshare.com)\n",
       " Harvard Dataverse (http://dataverse.harvard.edu/)\n",
       " OSF (https://osf.io/)\n",
       " Zenodo (www.zenodo.org)), Answer(text=Public online repositories recommended in RDP., explanation=The preferred mechanism for sharing research data is via data repositories. Authors are encouraged to deposit their research data in a repository that has been widely adopted within their research community but, if none is available, authors may use a general data repository.)]),\n",
       " 9: Question(text=9. Recommended/required licenses, answers=[Answer(text=Explicit mention of a certain license/license type in RDP., explanation=Data licensing\n",
       " The journal encourages research data to be made available under open licences that permit reuse freely (eg CC0). The journal does not enforce particular licenses for research data, where research data are deposited in third party repositories. The publisher of the journal does not claim copyright in research data.), Answer(text=Explicit mention of a certain license/license type in RDP., explanation=The journal encourages research data to be made available under open licences that permit reuse freely (eg CC0). The journal does not enforce particular licenses for research data, where research data are deposited in third party repositories. The publisher of the journal does not claim copyright in research data.)]),\n",
       " 10: Question(text=10. Referee guidelines concerning research data, answers=[Answer(text=Data sharing policy not mentioned in refereeing guidelines., explanation=I haven't found any mention in https://publishingsupport.iopscience.iop.org/publishing-support/reviewers/becoming-a-journal-reviewer/\n",
       " \n",
       " In RDP I found:\n",
       " Authors must agree to make any data required to support or replicate claims made in an article available privately to the journal’s editors, reviewers and readers without undue restriction or delay if requested.), Answer(text=Data sharing policy not mentioned in refereeing guidelines., explanation=no text)]),\n",
       " 11: Question(text=11. Unique policies for data types\n",
       " Please name all data types for which unique policies are recommended according to the RDP (Please separate all data types be semicolon, e.g. crystal structures; Protein sequence), answers=[Answer(text=nan, explanation=), Answer(text=no text, explanation=)]),\n",
       " 12: Question(text=12. Unique policies for data types\n",
       " Please name all data types for which unique policies are required according to the RDP (Please separate all data types be semicolon, e.g. crystal structures; Protein sequence), answers=[Answer(text=nan, explanation=), Answer(text=no text, explanation=)]),\n",
       " 13: Question(text=13. Code sharing requirements, answers=[Answer(text=Code sharing encouraged but optional., explanation=We encourage you to cite any data referred to in your article (including your own) in your reference list.\n",
       " [...]\n",
       " This policy applies to the research data that would be required to verify or replicate the results of research reported in articles published in the journal.\n",
       " [...]\n",
       " Research data includes any recorded factual material that are used to produce the results in digital and non-digital form. This includes tabular data, code, software, images, audio, documents, video, maps, raw and/or processed data.), Answer(text=Code sharing encouraged but optional., explanation=If you share associated software and code via GitHub then we recommend that you deposit a copy in a repository that issues a Digital Object Identifier (DOI). The DOI provides a permanent reference point and supports future citation of your software and code.)]),\n",
       " 14: Question(text=14. Code Reproducibility, answers=[Answer(text=No mention of dependencies for research code., explanation=No explicit mention), Answer(text=No mention of dependencies for research code., explanation=no text)]),\n",
       " 15: Question(text=15. Versioning and persistent identifiers, answers=[Answer(text=Journal policies encourage/recommend a persistent identifier or specifying a version of developed code., explanation=It may also be desirable to include information about two optional properties, Version and Resource Type (such as ‘dataset’ or ‘software’). If so, the recommended form is as follows:   Author/Creator (Publication Year). Title. Version. Repository/Archive Name. Resource Type. Identifier ), Answer(text=Journal policies encourage/recommend a persistent identifier or specifying a version of developed code., explanation=If you share associated software and code via GitHub then we recommend that you deposit a copy in a repository that issues a Digital Object Identifier (DOI). The DOI provides a permanent reference point and supports future citation of your software and code.)]),\n",
       " 16: Question(text=16. Code Quality Standards, answers=[Answer(text=The journal policies do not mention any code quality standards., explanation=No explicit mention), Answer(text=The journal policies do not mention any code quality standards., explanation=no text)]),\n",
       " 17: Question(text=17. Automatic Testing, answers=[Answer(text=No mention of automatic testing to verify code functionality., explanation=No explicit mention), Answer(text=No mention of automatic testing to verify code functionality., explanation=no text)]),\n",
       " 18: Question(text=18. Code Documentation, answers=[Answer(text=No mention of standards for code documentation., explanation=No explicit mention), Answer(text=No mention of standards for code documentation., explanation=no text)]),\n",
       " 19: Question(text=19. Linting Standards, answers=[Answer(text=No mention of linting standards for code., explanation=No mention), Answer(text=No mention of linting standards for code., explanation=no text)]),\n",
       " 20: Question(text=20. Code Development, answers=[Answer(text=The journal policies encourage/recommend standards for code development such as continuous integration., explanation=No explicit mention. Only reference to GitHub as follows: \"If you share associated software and code via GitHub then we recommend that you deposit a copy in a repository that issues a Digital Object Identifier (DOI). The DOI provides a permanent reference point and supports future citation of your software and code.\"), Answer(text=No mention of standards for code development such as continuous integration., explanation=no text)])}"
      ]
     },
     "execution_count": 36,
     "metadata": {},
     "output_type": "execute_result"
    }
   ],
   "source": [
    "grouped_questions['IOP']['2d_materials']"
   ]
  },
  {
   "cell_type": "code",
   "execution_count": 37,
   "id": "98b7f113",
   "metadata": {},
   "outputs": [],
   "source": [
    "from copy import deepcopy\n",
    "fixed_grouped_questions = deepcopy(grouped_questions)\n",
    "for p in fixed_grouped_questions:\n",
    "    for j in fixed_grouped_questions[p]:\n",
    "        for q in fixed_grouped_questions[p][j]:\n",
    "            fixed_grouped_questions[p][j][q].resolve_discrepancy(\n",
    "                correct_answer = 0, \n",
    "                discrepancy_reason= 'text missing',\n",
    "                )"
   ]
  },
  {
   "cell_type": "code",
   "execution_count": null,
   "id": "344bc320",
   "metadata": {},
   "outputs": [],
   "source": []
  },
  {
   "cell_type": "code",
   "execution_count": 38,
   "id": "9766b744",
   "metadata": {},
   "outputs": [],
   "source": [
    "save_answers_to_yaml(fixed_grouped_questions, parent_folder='../../data/processed/all_answers', save_only = ['IOP'])"
   ]
  },
  {
   "cell_type": "code",
   "execution_count": 27,
   "id": "420e133d",
   "metadata": {},
   "outputs": [],
   "source": [
    "from daemon_analysis_tools.file_handling import load_answers_from_yaml"
   ]
  },
  {
   "cell_type": "code",
   "execution_count": 59,
   "id": "32312a68",
   "metadata": {},
   "outputs": [],
   "source": [
    "aaa=load_answers_from_yaml('../../data/processed/all_answers')"
   ]
  },
  {
   "cell_type": "code",
   "execution_count": 60,
   "id": "05f315f2",
   "metadata": {},
   "outputs": [
    {
     "data": {
      "text/plain": [
       "'text missing'"
      ]
     },
     "execution_count": 60,
     "metadata": {},
     "output_type": "execute_result"
    }
   ],
   "source": [
    "aaa['IOP']['2d_materials'][7].discrepancy_reason"
   ]
  },
  {
   "cell_type": "code",
   "execution_count": null,
   "id": "d886af6c",
   "metadata": {},
   "outputs": [],
   "source": []
  },
  {
   "cell_type": "markdown",
   "id": "119f4b20",
   "metadata": {},
   "source": [
    "## `Publisher` and `Journal` classes"
   ]
  },
  {
   "cell_type": "markdown",
   "id": "cd5e934e",
   "metadata": {},
   "source": [
    "In case all the q&a files are fixed, load the `yaml` files and define a new, fixed, `grouped_questions` dictionary, uncommenting the next cell.\n",
    "\n",
    "Otherwise, keep the current `grouped_questions` dictionary as given by the preceding cell."
   ]
  },
  {
   "cell_type": "code",
   "execution_count": null,
   "id": "27bf45f8",
   "metadata": {},
   "outputs": [],
   "source": [
    "# fixed_grouped_questions = load_answers_from_yaml(parent_folder='../../data/processed/all_answers')"
   ]
  },
  {
   "cell_type": "markdown",
   "id": "65428355",
   "metadata": {},
   "source": [
    "Define a dictionary of `Publisher` instances containing `Journal` instances with the information taken from `grouped_questions`."
   ]
  },
  {
   "cell_type": "code",
   "execution_count": null,
   "id": "fb51bbc5",
   "metadata": {},
   "outputs": [],
   "source": [
    "publishers = {}\n",
    "\n",
    "for publisher_name, questions in grouped_questions.items():\n",
    "    publishers[publisher_name] = Publisher.from_questions(publisher_name, questions)"
   ]
  },
  {
   "cell_type": "markdown",
   "id": "2358a24f",
   "metadata": {},
   "source": [
    "For example, the ACS publisher instance is"
   ]
  },
  {
   "cell_type": "code",
   "execution_count": null,
   "id": "b086c6bd",
   "metadata": {},
   "outputs": [],
   "source": [
    "publishers['ACS']"
   ]
  },
  {
   "cell_type": "markdown",
   "id": "ff83dd87",
   "metadata": {},
   "source": [
    "and the journals it contains are"
   ]
  },
  {
   "cell_type": "code",
   "execution_count": null,
   "id": "5474f9a5",
   "metadata": {},
   "outputs": [],
   "source": [
    "publishers['ACS'].list_journals()"
   ]
  },
  {
   "cell_type": "markdown",
   "id": "5b69544e",
   "metadata": {},
   "source": [
    "and one of the jornals, e.g. JACS, is"
   ]
  },
  {
   "cell_type": "code",
   "execution_count": null,
   "id": "b3dd1a9a",
   "metadata": {},
   "outputs": [],
   "source": [
    "publishers['ACS'].get_journal('jacs')"
   ]
  },
  {
   "cell_type": "code",
   "execution_count": null,
   "id": "861bf6ef",
   "metadata": {},
   "outputs": [],
   "source": []
  }
 ],
 "metadata": {
  "kernelspec": {
   "display_name": "fireworks_mp",
   "language": "python",
   "name": "python3"
  },
  "language_info": {
   "codemirror_mode": {
    "name": "ipython",
    "version": 3
   },
   "file_extension": ".py",
   "mimetype": "text/x-python",
   "name": "python",
   "nbconvert_exporter": "python",
   "pygments_lexer": "ipython3",
   "version": "3.11.8"
  }
 },
 "nbformat": 4,
 "nbformat_minor": 5
}
