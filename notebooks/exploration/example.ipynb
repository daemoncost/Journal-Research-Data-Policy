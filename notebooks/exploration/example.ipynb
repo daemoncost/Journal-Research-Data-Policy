{
 "cells": [
  {
   "cell_type": "code",
   "execution_count": null,
   "id": "329991a1",
   "metadata": {},
   "outputs": [],
   "source": [
    "%load_ext autoreload\n",
    "%autoreload 2"
   ]
  },
  {
   "cell_type": "code",
   "execution_count": null,
   "id": "0ab0b216-7fdd-4b0e-ad71-d4604f6d7e76",
   "metadata": {},
   "outputs": [],
   "source": [
    "from daemon_analysis_tools.file_handling import load_and_process_csv\n",
    "from daemon_analysis_tools.data.utils import group_questions_by_journal\n",
    "from daemon_analysis_tools.data.publisher import Publisher\n",
    "from daemon_analysis_tools.file_handling import save_answers_to_yaml, load_answers_from_yaml"
   ]
  },
  {
   "cell_type": "markdown",
   "id": "f4721670-c95c-48cb-bdef-f97b4618114a",
   "metadata": {},
   "source": [
    "Load and process data:\n",
    "- Group answers by publisher and journal, trying to uniform names written in slightly different ways.\n",
    "- Store in a DataFrame"
   ]
  },
  {
   "cell_type": "code",
   "execution_count": null,
   "id": "f56a64b0",
   "metadata": {},
   "outputs": [],
   "source": [
    "data = load_and_process_csv('../../data/raw/rdp.csv')"
   ]
  },
  {
   "cell_type": "markdown",
   "id": "25f6f4d3",
   "metadata": {},
   "source": [
    "Get a `dict` labeled by publisher names of `dict`s labeled by journal names of `dict`s of `Question` instances. The `.answer` attribute contains the answers given by the respondents and the explanations text to motivate it."
   ]
  },
  {
   "cell_type": "code",
   "execution_count": null,
   "id": "95536961",
   "metadata": {},
   "outputs": [],
   "source": [
    "grouped_questions = group_questions_by_journal(data)"
   ]
  },
  {
   "cell_type": "markdown",
   "id": "b1ac9dc1",
   "metadata": {},
   "source": [
    "Visualize the questions and answers given by the encoders (e.g. for ACS Accounts of Chemical Research)"
   ]
  },
  {
   "cell_type": "code",
   "execution_count": null,
   "id": "44bc4054",
   "metadata": {},
   "outputs": [],
   "source": [
    "for q in grouped_questions['ACS']['accounts_of_chemical_research']:\n",
    "    print(q)\n",
    "    for a in grouped_questions['ACS']['accounts_of_chemical_research'][q].answers:\n",
    "        print(a.text)\n",
    "    print()"
   ]
  },
  {
   "cell_type": "markdown",
   "id": "58a371d3",
   "metadata": {},
   "source": [
    "You can instantiate `Publisher` from a `dict` or `pd.DataFrame` defined from `group_questions_by_journal`"
   ]
  },
  {
   "cell_type": "markdown",
   "id": "63a8215f",
   "metadata": {},
   "source": [
    "## Resolve discrepancies"
   ]
  },
  {
   "cell_type": "markdown",
   "id": "1809eb4c",
   "metadata": {},
   "source": [
    "The `Question` class has a `.resolve_discrepancies` method which updates `Question.anwsers` with the correct answer."
   ]
  },
  {
   "cell_type": "markdown",
   "id": "9a40c58d",
   "metadata": {},
   "source": [
    "For example, let's consider IOP's 2D Materials. Question 7 has discrepancies."
   ]
  },
  {
   "cell_type": "code",
   "execution_count": null,
   "id": "7e948e54",
   "metadata": {},
   "outputs": [],
   "source": [
    "grouped_questions['IOP']['2d_materials'][7].has_discrepancies()"
   ]
  },
  {
   "cell_type": "markdown",
   "id": "2a1944b9",
   "metadata": {},
   "source": [
    "These are the answers given by the two encoders:"
   ]
  },
  {
   "cell_type": "code",
   "execution_count": null,
   "id": "66b41318",
   "metadata": {},
   "outputs": [],
   "source": [
    "grouped_questions['IOP']['2d_materials'][7].print_qa()"
   ]
  },
  {
   "cell_type": "markdown",
   "id": "9ccc8677",
   "metadata": {},
   "source": [
    "Inconsistencies can be removed manually, passing the index of the correct respondent."
   ]
  },
  {
   "cell_type": "code",
   "execution_count": null,
   "id": "37f18086",
   "metadata": {},
   "outputs": [],
   "source": [
    "grouped_questions['IOP']['2d_materials'][7].resolve_discrepancy(correct_answer = 0)"
   ]
  },
  {
   "cell_type": "markdown",
   "id": "55dc4cd5",
   "metadata": {},
   "source": [
    "After doing this, the `.get_final_answer()` method returns the correct answer."
   ]
  },
  {
   "cell_type": "code",
   "execution_count": null,
   "id": "bbee9e63",
   "metadata": {},
   "outputs": [],
   "source": [
    "grouped_questions['IOP']['2d_materials'][7].get_final_answer()"
   ]
  },
  {
   "cell_type": "markdown",
   "id": "50efb2f5",
   "metadata": {},
   "source": [
    "Alternatively, data can be saved to `yaml` files containing questions & answers given by the encoders. Inconsistencies can be solved manually modifying these files writing the encoder id who gave the correct answer:"
   ]
  },
  {
   "cell_type": "code",
   "execution_count": null,
   "id": "a4d1df2e",
   "metadata": {},
   "outputs": [],
   "source": [
    "save_answers_to_yaml(grouped_questions, parent_folder='../../data/processed/all_answers')"
   ]
  },
  {
   "cell_type": "markdown",
   "id": "6ecbfd0d",
   "metadata": {},
   "source": [
    "Each file, one per journal, has this form:\n",
    "\n",
    "```\n",
    "...\n",
    "...\n",
    "3:\n",
    "  text: 3. Data sharing requirements in RDP\n",
    "  has_discrepancies: true\n",
    "  0:\n",
    "    text: Data sharing encouraged but optional.\n",
    "    explanation: All ACS journals strongly encourage authors to make the research\n",
    "      data underlying their articles publicly available at the time of publication.\n",
    "  1:\n",
    "    text: Data sharing required but not publicly (e.g. available upon request is allowed).\n",
    "    explanation: \"Text from Journal Research Data Policy : \\n\\\" All ACS journals strongly\\\n",
    "      \\ encourage authors to make the research data underlying their articles publicly\\\n",
    "      \\ available at the time of publication. \\\"\"\n",
    "  correct_answer: null\n",
    "...\n",
    "...\n",
    "... continues similarly for other questions\n",
    "```\n",
    "\n",
    "Only questions where `has_discrepancies` is `true` should be taken care of. \n",
    "\n",
    "The correct answer can be chosen writing the encoder id in `correct_answer`. \n",
    "\n",
    "For example, in this case it seems that the first answer is correct, as the RDP only encourages (albeit strongly) data publication.\n",
    "\n",
    "Therefore, one can write\n",
    "\n",
    "```\n",
    "  correct_answer: 0\n",
    "```\n",
    "\n",
    "and save the file. Once all questions with discrepancies are fixed, one can save the `yaml` file and proceed with the next journal."
   ]
  },
  {
   "cell_type": "markdown",
   "id": "94a3b9b8",
   "metadata": {},
   "source": [
    "For the sake of illustrating the next functions, let's assume the correct answer is always the first, and manually \"fix\" all the q&a."
   ]
  },
  {
   "cell_type": "code",
   "execution_count": null,
   "id": "98b7f113",
   "metadata": {},
   "outputs": [],
   "source": [
    "for p in grouped_questions:\n",
    "    for j in grouped_questions[p]:\n",
    "        for q in grouped_questions[p][j]:\n",
    "            grouped_questions[p][j][q].resolve_discrepancy(correct_answer = 0)"
   ]
  },
  {
   "cell_type": "markdown",
   "id": "119f4b20",
   "metadata": {},
   "source": [
    "## `Publisher` and `Journal` classes"
   ]
  },
  {
   "cell_type": "markdown",
   "id": "cd5e934e",
   "metadata": {},
   "source": [
    "In case all the q&a files are fixed, load the `yaml` files and define a new, fixed, `grouped_questions` dictionary, uncommenting the next cell.\n",
    "\n",
    "Otherwise, keep the current `grouped_questions` dicitonary as given by the preceding cell."
   ]
  },
  {
   "cell_type": "code",
   "execution_count": null,
   "id": "27bf45f8",
   "metadata": {},
   "outputs": [],
   "source": [
    "# fixed_grouped_questions = load_answers_from_yaml(parent_folder='../../data/processed/all_answers')"
   ]
  },
  {
   "cell_type": "markdown",
   "id": "65428355",
   "metadata": {},
   "source": [
    "Define a dictionary of `Publisher` instances containing `Journal` instances with the information taken from `grouped_questions`."
   ]
  },
  {
   "cell_type": "code",
   "execution_count": null,
   "id": "fb51bbc5",
   "metadata": {},
   "outputs": [],
   "source": [
    "publishers = {}\n",
    "\n",
    "for publisher_name, questions in grouped_questions.items():\n",
    "    publishers[publisher_name] = Publisher.from_questions(publisher_name, questions)"
   ]
  },
  {
   "cell_type": "markdown",
   "id": "2358a24f",
   "metadata": {},
   "source": [
    "For example, the ACS publisher instance is"
   ]
  },
  {
   "cell_type": "code",
   "execution_count": null,
   "id": "b086c6bd",
   "metadata": {},
   "outputs": [],
   "source": [
    "publishers['ACS']"
   ]
  },
  {
   "cell_type": "markdown",
   "id": "ff83dd87",
   "metadata": {},
   "source": [
    "and the journals it contains are"
   ]
  },
  {
   "cell_type": "code",
   "execution_count": null,
   "id": "5474f9a5",
   "metadata": {},
   "outputs": [],
   "source": [
    "publishers['ACS'].list_journals()"
   ]
  },
  {
   "cell_type": "markdown",
   "id": "5b69544e",
   "metadata": {},
   "source": [
    "and one of the jornals, e.g. JACS, is"
   ]
  },
  {
   "cell_type": "code",
   "execution_count": null,
   "id": "b3dd1a9a",
   "metadata": {},
   "outputs": [],
   "source": [
    "publishers['ACS'].get_journal('jacs')"
   ]
  }
 ],
 "metadata": {
  "kernelspec": {
   "display_name": "Python 3 (ipykernel)",
   "language": "python",
   "name": "python3"
  },
  "language_info": {
   "codemirror_mode": {
    "name": "ipython",
    "version": 3
   },
   "file_extension": ".py",
   "mimetype": "text/x-python",
   "name": "python",
   "nbconvert_exporter": "python",
   "pygments_lexer": "ipython3",
   "version": "3.11.8"
  }
 },
 "nbformat": 4,
 "nbformat_minor": 5
}
