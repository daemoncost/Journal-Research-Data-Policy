{
 "cells": [
  {
   "cell_type": "code",
   "execution_count": 1,
   "id": "8a33f6af",
   "metadata": {},
   "outputs": [],
   "source": [
    "from daemon_analysis_tools.file_handling import load_and_process_csv\n",
    "from daemon_analysis_tools.data.utils import group_questions_by_journal\n",
    "from daemon_analysis_tools.data.publisher import Publisher\n",
    "from daemon_analysis_tools.file_handling import save_answers_to_yaml, load_answers_from_yaml"
   ]
  },
  {
   "cell_type": "code",
   "execution_count": 2,
   "id": "a9231043",
   "metadata": {},
   "outputs": [],
   "source": [
    "data = load_and_process_csv('../../data/raw/rdp.csv')"
   ]
  },
  {
   "cell_type": "code",
   "execution_count": 3,
   "id": "8ef4b05e-4c60-40b7-9212-d4b944d31446",
   "metadata": {},
   "outputs": [],
   "source": [
    "grouped_questions = group_questions_by_journal(data)"
   ]
  },
  {
   "cell_type": "code",
   "execution_count": 12,
   "id": "ff74fa50-3243-4359-b734-75c98e220219",
   "metadata": {},
   "outputs": [
    {
     "name": "stdout",
     "output_type": "stream",
     "text": [
      "#############################################################\n",
      "aip_advances\n",
      "#############################################################\n",
      "apl_materials\n",
      "#############################################################\n",
      "apl_photonics\n",
      "#############################################################\n",
      "applied_physics_letters\n",
      "#############################################################\n",
      "applied_physics_reviews\n",
      "#############################################################\n",
      "chinese_journal_of_chemical_physics\n",
      "#############################################################\n",
      "journal_of_applied_physics\n",
      "#############################################################\n",
      "journal_of_mathematical_physics\n",
      "#############################################################\n",
      "low_temperature_physics\n",
      "#############################################################\n",
      "physics_of_fluids\n",
      "#############################################################\n",
      "physics_of_plasmas\n",
      "#############################################################\n",
      "review_of_scientific_instruments\n",
      "#############################################################\n",
      "structural_dynamics\n",
      "#############################################################\n",
      "the_journal_of_chemical_physics\n"
     ]
    }
   ],
   "source": [
    "for journal, data in grouped_questions['AIP'].items():\n",
    "    print('#############################################################')\n",
    "    print(journal)\n",
    "    for question, answer in data.items():\n",
    "        if answer.has_discrepancies():\n",
    "            answer.print_qa()"
   ]
  },
  {
   "cell_type": "code",
   "execution_count": 13,
   "id": "768381e4-1c13-4ff8-b214-a9d7aae57e5c",
   "metadata": {},
   "outputs": [],
   "source": [
    "save_answers_to_yaml(grouped_questions, parent_folder='../../data/processed/all_answers', save_only = ['AIP'])"
   ]
  },
  {
   "cell_type": "code",
   "execution_count": null,
   "id": "ee9bdc1e-61f2-45ae-8757-231a8e2094c0",
   "metadata": {},
   "outputs": [],
   "source": []
  }
 ],
 "metadata": {
  "kernelspec": {
   "display_name": "Python 3 (ipykernel)",
   "language": "python",
   "name": "python3"
  },
  "language_info": {
   "codemirror_mode": {
    "name": "ipython",
    "version": 3
   },
   "file_extension": ".py",
   "mimetype": "text/x-python",
   "name": "python",
   "nbconvert_exporter": "python",
   "pygments_lexer": "ipython3",
   "version": "3.12.6"
  }
 },
 "nbformat": 4,
 "nbformat_minor": 5
}
