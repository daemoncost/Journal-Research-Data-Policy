{
 "cells": [
  {
   "cell_type": "code",
   "execution_count": 2,
   "id": "329991a1",
   "metadata": {},
   "outputs": [],
   "source": [
    "%load_ext autoreload\n",
    "%autoreload 2"
   ]
  },
  {
   "cell_type": "code",
   "execution_count": 3,
   "id": "0ab0b216-7fdd-4b0e-ad71-d4604f6d7e76",
   "metadata": {},
   "outputs": [],
   "source": [
    "from daemon_analysis_tools.file_handling import load_and_process_csv\n",
    "from daemon_analysis_tools.data.utils import group_questions_by_journal\n",
    "from daemon_analysis_tools.data.publisher import Publisher\n",
    "from daemon_analysis_tools.file_handling import save_answers_to_yaml, load_answers_from_yaml"
   ]
  },
  {
   "cell_type": "markdown",
   "id": "f4721670-c95c-48cb-bdef-f97b4618114a",
   "metadata": {},
   "source": [
    "Load and process data:\n",
    "- Group answers by publisher and journal, trying to uniform names written in slightly different ways.\n",
    "- Store in a DataFrame"
   ]
  },
  {
   "cell_type": "code",
   "execution_count": 4,
   "id": "f56a64b0",
   "metadata": {},
   "outputs": [],
   "source": [
    "data = load_and_process_csv('../../data/raw/rdp.csv')"
   ]
  },
  {
   "cell_type": "markdown",
   "id": "25f6f4d3",
   "metadata": {},
   "source": [
    "Get a `dict` labeled by publisher names of `dict`s labeled by journal names of `dict`s of `Question` instances. The `.answer` attribute contains the answers given by the respondents and the explanations text to motivate it."
   ]
  },
  {
   "cell_type": "code",
   "execution_count": 5,
   "id": "95536961",
   "metadata": {},
   "outputs": [],
   "source": [
    "grouped_questions = group_questions_by_journal(data)"
   ]
  },
  {
   "cell_type": "code",
   "execution_count": 16,
   "id": "ea77c5ec",
   "metadata": {},
   "outputs": [
    {
     "name": "stdout",
     "output_type": "stream",
     "text": [
      "ACS accounts_of_chemical_research 2\n",
      "ACS accounts_of_materials_research 2\n",
      "ACS acs_energy_letters 2\n",
      "ACS acs_es_and_t_engineering 2\n",
      "ACS acs_omega 2\n",
      "ACS environmental_science_and_technology 2\n",
      "ACS inorganic_chemistry 2\n",
      "ACS jacs 2\n",
      "ACS jacs_au 2\n",
      "ACS journal_of_medicinal_chemistry 2\n",
      "ACS journal_of_the_american_society_for_mass_spectrometry 2\n",
      "ACS the_journal_of_physical_chemistry_c 2\n",
      "APS physical_review_c 2\n",
      "APS physical_review_letters 2\n",
      "APS physical_review_research 2\n",
      "APS prx_quantum 2\n",
      "Bentham Science current_nanoscience 2\n",
      "Bentham Science current_organic_synthesis 2\n",
      "Frontiers frontiers_in_bioengineering_and_biotechnology 2\n",
      "Frontiers frontiers_in_chemical_engineering 2\n",
      "Frontiers frontiers_in_chemistry 2\n",
      "Frontiers frontiers_in_energy_research 2\n",
      "Frontiers frontiers_in_materials 2\n",
      "Frontiers frontiers_in_nanotechnology 2\n",
      "Frontiers frontiers_in_physics 2\n",
      "IOP 2d_materials 2\n",
      "IOP iop_conference_series_materials_science_and_engineering 2\n",
      "IOP journal_of_physics_condensed_matter 2\n",
      "IOP journal_of_physics_energy 2\n",
      "IOP journal_of_physics_photonics 2\n",
      "IOP journal_of_semiconductors 2\n",
      "IOP nanotechnology 2\n",
      "IOP quantum_science_and_technology 2\n",
      "IOP smart_materials_and_structures 2\n",
      "MDPI materials 2\n",
      "MDPI sensors 2\n",
      "Optica biomedical_optics_express 2\n",
      "Optica optica 2\n",
      "Optica optics_express 2\n",
      "Optica optics_letters 2\n",
      "Optica photonics_research 2\n",
      "RSC chemical_communications 2\n",
      "RSC dalton_transactions 2\n",
      "RSC digital_discovery 2\n",
      "RSC energy_advances 2\n",
      "RSC energy_and_environmental_science 2\n",
      "RSC environmental_science_nano 2\n",
      "RSC journal_of_materials_chemistry_a 2\n",
      "RSC nanoscale_advances 2\n",
      "RSC physical_chemistry_chemical_physics 2\n",
      "Springer Nature nature 2\n",
      "Springer Nature nature_energy 2\n",
      "Taylor & Francis advanced_composite_materials 2\n",
      "Taylor & Francis analytical_letters 2\n",
      "Taylor & Francis ferroelectrics 2\n",
      "Taylor & Francis green_chemistry_letters_and_reviews 2\n",
      "Taylor & Francis international_journal_of_nanomedicine 2\n",
      "Taylor & Francis journal_of_asian_ceramic_societies 2\n",
      "Taylor & Francis journal_of_macromolecular_science_part_b 2\n",
      "Taylor & Francis liquid_crystals 2\n",
      "Taylor & Francis materials_research_letters 2\n",
      "Taylor & Francis molecular_crystals_and_liquid_crystals 2\n",
      "Taylor & Francis molecular_physics 2\n",
      "Taylor & Francis nanotoxicology 2\n",
      "Taylor & Francis polycyclic_aromatic_compounds 2\n",
      "Taylor & Francis science_and_technology_of_advanced_materials 2\n",
      "Taylor & Francis waves_in_random_and_complex_media 2\n",
      "Wiley advanced_energy_materials 2\n",
      "Wiley advanced_functional_materials 2\n",
      "Wiley advanced_materials 2\n",
      "Wiley angewandte_chemie 2\n",
      "Wiley angewandte_chemie_international_edition 2\n",
      "Wiley batteries_and_supercaps 2\n",
      "Wiley carbon_energy 2\n",
      "Wiley ce-papers 2\n",
      "Wiley chemistry_a_european_journal 2\n",
      "Wiley chemistryselect 2\n",
      "Wiley chirality 2\n",
      "Wiley infomat 2\n",
      "Wiley journal_of_physical_organic_chemistry 2\n",
      "Wiley microscopy_research_and_technique 2\n",
      "Wiley small 2\n"
     ]
    }
   ],
   "source": [
    "duplicates = {}\n",
    "\n",
    "for publisher, journals in grouped_questions.items():\n",
    "    for journal, data in journals.items():\n",
    "        for question, answer in data.items():\n",
    "            if answer.has_discrepancies():\n",
    "                duplicates[(publisher, journal)] = len(answer.answers)\n",
    "\n",
    "for (publisher, journals), num in duplicates.items():\n",
    "    if num == 2:\n",
    "        print(publisher, journals, num)\n",
    "        "
   ]
  },
  {
   "cell_type": "code",
   "execution_count": 18,
   "id": "689539c9",
   "metadata": {},
   "outputs": [
    {
     "name": "stdout",
     "output_type": "stream",
     "text": [
      "ACS 16\n",
      "AIP 14\n",
      "APS 11\n",
      "Bentham Science 6\n",
      "EDP Sciences 6\n",
      "Elsevier 9\n",
      "Frontiers 7\n",
      "IEEE 5\n",
      "IOP 18\n",
      "IUCr 10\n",
      "MDPI 15\n",
      "Optica 9\n",
      "Pleiades Publishing 9\n",
      "RSC 15\n",
      "Springer Nature 9\n",
      "Taylor & Francis 15\n",
      "Wiley 15\n"
     ]
    }
   ],
   "source": [
    "n_journals = {}\n",
    "\n",
    "for publisher, journals in grouped_questions.items():\n",
    "    n_journals[publisher] = len(journals)\n",
    "\n",
    "for publisher, num in n_journals.items():\n",
    "    print(publisher, num)"
   ]
  }
 ],
 "metadata": {
  "kernelspec": {
   "display_name": "Python 3 (ipykernel)",
   "language": "python",
   "name": "python3"
  },
  "language_info": {
   "codemirror_mode": {
    "name": "ipython",
    "version": 3
   },
   "file_extension": ".py",
   "mimetype": "text/x-python",
   "name": "python",
   "nbconvert_exporter": "python",
   "pygments_lexer": "ipython3",
   "version": "3.11.5"
  }
 },
 "nbformat": 4,
 "nbformat_minor": 5
}
