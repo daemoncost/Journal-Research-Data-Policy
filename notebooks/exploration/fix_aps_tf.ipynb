{
 "cells": [
  {
   "cell_type": "code",
   "execution_count": 105,
   "id": "329991a1",
   "metadata": {},
   "outputs": [
    {
     "name": "stdout",
     "output_type": "stream",
     "text": [
      "The autoreload extension is already loaded. To reload it, use:\n",
      "  %reload_ext autoreload\n"
     ]
    }
   ],
   "source": [
    "%load_ext autoreload\n",
    "%autoreload 2"
   ]
  },
  {
   "cell_type": "code",
   "execution_count": 106,
   "id": "0ab0b216-7fdd-4b0e-ad71-d4604f6d7e76",
   "metadata": {},
   "outputs": [],
   "source": [
    "from daemon_analysis_tools.file_handling import load_and_process_csv\n",
    "from daemon_analysis_tools.data.utils import group_questions_by_journal\n",
    "from daemon_analysis_tools.data.publisher import Publisher\n",
    "from daemon_analysis_tools.file_handling import save_answers_to_yaml, load_answers_from_yaml"
   ]
  },
  {
   "cell_type": "markdown",
   "id": "f4721670-c95c-48cb-bdef-f97b4618114a",
   "metadata": {},
   "source": [
    "Load and process data:\n",
    "- Group answers by publisher and journal, trying to uniform names written in slightly different ways.\n",
    "- Store in a DataFrame"
   ]
  },
  {
   "cell_type": "code",
   "execution_count": 107,
   "id": "f56a64b0",
   "metadata": {},
   "outputs": [],
   "source": [
    "data = load_and_process_csv('../../data/raw/rdp.csv')"
   ]
  },
  {
   "cell_type": "markdown",
   "id": "25f6f4d3",
   "metadata": {},
   "source": [
    "Get a `dict` labeled by publisher names of `dict`s labeled by journal names of `dict`s of `Question` instances. The `.answer` attribute contains the answers given by the respondents and the explanations text to motivate it."
   ]
  },
  {
   "cell_type": "code",
   "execution_count": 108,
   "id": "95536961",
   "metadata": {},
   "outputs": [],
   "source": [
    "grouped_questions = group_questions_by_journal(data)"
   ]
  },
  {
   "cell_type": "markdown",
   "id": "b1ac9dc1",
   "metadata": {},
   "source": [
    "Visualize the questions and answers given by the encoders (e.g. for ACS Accounts of Chemical Research)"
   ]
  },
  {
   "cell_type": "code",
   "execution_count": 109,
   "id": "44bc4054",
   "metadata": {},
   "outputs": [
    {
     "name": "stdout",
     "output_type": "stream",
     "text": [
      "1\n",
      " https://publish.acs.org/publish/data_policy\n",
      "Research Data Policy (RDP) exists.\n",
      "\n",
      "3\n",
      "Research Data Policy\n",
      "All ACS journals strongly encourage authors to make the research data underlying their articles publicly available at the time of publication.\n",
      "\n",
      "Research data is defined as materials and information used in the experiments that enable the validation of the conclusions drawn in the article, including primary data produced by the authors for the study being reported, secondary data reused or analyzed by the authors for the study, and any other materials necessary to reproduce or replicate the results.\n",
      "\n",
      "The ACS Research Data Policy provides additional information on Data Availability Statements, Data Citation, and Data Repositories.\n",
      "Data sharing required but not publicly (e.g. available upon request is allowed).\n",
      "\n",
      "4\n",
      "All ACS journals strongly encourage authors to make the research data underlying their articles publicly available at the time of publication.\n",
      "Public data sharing on a FAIR repository encouraged.\n",
      "\n",
      "2\n",
      "Choosing an Appropriate Data Repository\n",
      "\n",
      "Where possible, ACS recommends authors deposit data in discipline-specific, community-recognized repositories or in generalist repositories when no community resource is available. Authors should consult the journal Author Guidelines for specific repository recommendations or requirements for data types.\n",
      "\n",
      "ACS strongly encourages authors to select a repository that issues a persistent unique identifier, such as a DOI or an Accession Number. This will help facilitate the discoverability and citation of deposited data. Repositories that focus on research data, are managed by a sustainable institution (such as a professional society or university), have a plan for long-term storage of and access to the data, and provide clear information about terms of use of the data are preferred.\n",
      "\n",
      "To find an appropriate repository, authors may refer to re3data.org and FAIRsharing.org for information on available repositories, their certification status, and services offered.\n",
      "\n",
      "...\n",
      "\n",
      "What about CIF data?\n",
      "\n",
      "ACS has a formal procedure for submitting Crystallographic Information Files (CIFs), which are required for some journals. This procedure does not fall under the Data Availability Statement process: Authors should continue to follow the CIF procedure, which includes submitting information to CCDC prior to manuscript submission and providing CCDC deposition numbers with their manuscript when asked during online submission.\n",
      "Mentioned in the RDP but optional.\n",
      "\n",
      "5\n",
      "Is a Data Availability Statement required for publication?\n",
      "ACS is conducting a Data Availability Statement pilot program with Organic Letters, The Journal of Organic Chemistry, and ACS Organic & Inorganic Au. A Data Availability Statement is required for these three journals during the pilot program for all peer-reviewed articles. Manuscripts submitted to these journals prior to September 15, 2022 will not be included in the pilot. A Data Availability Statement is not required for other ACS journals at this time but is highly encouraged. With results from the pilot program, ACS will decide on future requirements for all its journals.\n",
      "\n",
      "Is a Data Availability Statement required for every article?\n",
      "A Data Availability Statement is required for all peer-reviewed articles in Organic Letters, The Journal of Organic Chemistry, and ACS Organic & Inorganic Au. A Data Availability Statement is not required for the following non-peer-reviewed articles, but is encouraged if new data are being presented: Addition/Correction, Editorial, Expression of Concern, or Retraction.\n",
      "DOIs or other persistent identifiers recommended for datasets or codes.\n",
      "\n",
      "7\n",
      "Data Availability Statements\n",
      "A Data Availability Statement should describe the availability of the data underlying the conclusions drawn in the research article and provide a means of access, where applicable, by linking to the data, preferably through the use of a persistent identifier such as a DOI or an Accession Number assigned by a data repository. The Data Availability Statement should be included in the manuscript under the Associated Content heading with the Supporting Information.\n",
      "\n",
      "\n",
      "Required data must be available prior to official publication.\n",
      "\n",
      "8\n",
      "ACS Research Data Policy\n",
      "Where ethically and legally feasible, all ACS journals strongly encourage authors to make the research data underlying their articles publicly available at the time of publication. For the purposes of this policy, research data is defined as materials and information used in the experiments that enable the validation of the conclusions drawn in the article. This includes primary data produced by the authors for the study being reported, secondary data reused or analyzed by the authors for the study, and any other materials necessary to reproduce or replicate the results. To ensure data accessibility, we encourage the use of open licenses for reuse of data, such as Creative Commons CC BY. You can learn more about standard reuse licenses at the Open Access Licensing Options page on the ACS Publications website.\n",
      "\n",
      "...\n",
      "\n",
      "Exceptions\n",
      "Exceptions to data availability requirements or embargoes delaying data release are available where legal or ethical issues prevent immediate public sharing. This includes data that may reveal personal information of research subjects, data where informed consent for public sharing was not granted, and other legitimate restrictions. In such cases, please contact the relevant journal editorial office to disclose the rationale and request an exception.\n",
      "Data sharing in supplementary material or hosting by journal recommended in RDP.\n",
      "\n",
      "9\n",
      "Choosing an Appropriate Data Repository\n",
      "Where possible, ACS recommends authors deposit data in discipline-specific, community-recognized repositories or in generalist repositories when no community resource is available. Authors should consult the journal Author Guidelines for specific repository recommendations or requirements for data types.\n",
      "\n",
      "ACS strongly encourages authors to select a repository that issues a persistent unique identifier, such as a DOI or an Accession Number. This will help facilitate the discoverability and citation of deposited data. Repositories that focus on research data, are managed by a sustainable institution (such as a professional society or university), have a plan for long-term storage of and access to the data, and provide clear information about terms of use of the data are preferred.\n",
      "\n",
      "To find an appropriate repository, authors may refer to re3data.org and FAIRsharing.org for information on available repositories, their certification status, and services offered.\n",
      "Explicit mention of a certain license/license type in RDP.\n",
      "\n",
      "10\n",
      "ACS Research Data Policy\n",
      "Where ethically and legally feasible, all ACS journals strongly encourage authors to make the research data underlying their articles publicly available at the time of publication. For the purposes of this policy, research data is defined as materials and information used in the experiments that enable the validation of the conclusions drawn in the article. This includes primary data produced by the authors for the study being reported, secondary data reused or analyzed by the authors for the study, and any other materials necessary to reproduce or replicate the results. To ensure data accessibility, we encourage the use of open licenses for reuse of data, such as Creative Commons CC BY. You can learn more about standard reuse licenses at the Open Access Licensing Options page on the ACS Publications website.\n",
      "\n",
      "...\n",
      "\n",
      "Data repositories supporting peer-reviewed publications generally should meet the following criteria:\n",
      "\n",
      "Ensure long-term persistence and preservation of datasets (minimum of 5 years after publication)\n",
      "\n",
      "Be supported by a research community or research institution\n",
      "\n",
      "Provide deposited datasets with stable and persistent identifiers, e.g., Digital Object Identifiers (DOIs)\n",
      "\n",
      "Allow access to data without restrictions\n",
      "\n",
      "Provide clear terms of data use and data access (or license) on each dataset landing page\n",
      "Data sharing policy not mentioned in refereeing guidelines.\n",
      "\n",
      "11\n",
      "https://pubs.acs.org/page/review/index.html\n",
      "\n",
      "need to check this https://institute.acs.org/courses/acs-reviewer-lab.html\n",
      "no text.\n",
      "\n",
      "12\n",
      "CIF \n",
      "no text.\n",
      "\n",
      "13\n",
      " \n",
      "Code sharing not mentioned.\n",
      "\n",
      "14\n",
      "Code sharing not mentioned.\n",
      "No mention of dependencies for research code.\n",
      "\n",
      "15\n",
      "No mention of dependencies for research code.\n",
      "No mention of a persistent identifier or specifying a version of developed code.\n",
      "\n",
      "16\n",
      "No mention of a persistent identifier or specifying a version of developed code.\n",
      "The journal policies do not mention any code quality standards.\n",
      "\n",
      "17\n",
      "The journal policies do not mention any code quality standards.\n",
      "No mention of automatic testing to verify code functionality.\n",
      "\n",
      "18\n",
      "No mention of automatic testing to verify code functionality.\n",
      "No mention of standards for code documentation.\n",
      "\n",
      "19\n",
      "No mention of standards for code documentation.\n",
      "No mention of linting standards for code.\n",
      "\n",
      "20\n",
      "No mention of linting standards for code.\n",
      "No mention of standards for code development such as continuous integration.\n",
      "\n"
     ]
    }
   ],
   "source": [
    "for q in grouped_questions['ACS']['accounts_of_chemical_research']:\n",
    "    print(q)\n",
    "    for a in grouped_questions['ACS']['accounts_of_chemical_research'][q].answers:\n",
    "        print(a.text)\n",
    "    print()"
   ]
  },
  {
   "cell_type": "markdown",
   "id": "1bc17263",
   "metadata": {},
   "source": [
    "Questions and answer can be saved to `yaml` files."
   ]
  },
  {
   "cell_type": "code",
   "execution_count": 110,
   "id": "a4d1df2e",
   "metadata": {},
   "outputs": [
    {
     "name": "stdout",
     "output_type": "stream",
     "text": [
      "APS\n",
      "Taylor & Francis\n"
     ]
    }
   ],
   "source": [
    "save_answers_to_yaml(grouped_questions, parent_folder='../../data/processed/all_answers', save_only = ['APS', 'Taylor & Francis'])"
   ]
  },
  {
   "cell_type": "markdown",
   "id": "63a8215f",
   "metadata": {},
   "source": [
    "## Resolve discrepancies"
   ]
  },
  {
   "cell_type": "markdown",
   "id": "1809eb4c",
   "metadata": {},
   "source": [
    "The `Question` class has a `.resolve_discrepancies` method which updates `Question.anwsers` with the correct answer."
   ]
  },
  {
   "cell_type": "markdown",
   "id": "9a40c58d",
   "metadata": {},
   "source": [
    "For example, let's consider IOP's 2D Materials. Question 7 has discrepancies."
   ]
  },
  {
   "cell_type": "code",
   "execution_count": 111,
   "id": "7e948e54",
   "metadata": {},
   "outputs": [
    {
     "name": "stdout",
     "output_type": "stream",
     "text": [
      "#############################################################\n",
      "advanced_composite_materials\n",
      "7. Timing of data release\n",
      "  Resp. 0:\n",
      "    Answer: Required data must be available prior to official publication.\n",
      "    Explanation: At the point of submission, you will be asked if there is a data set associated with the paper. If you reply yes, you will be asked to provide the DOI, pre-registered DOI, hyperlink, or other persistent identifier associated with the data set(s).\n",
      "  Resp. 1:\n",
      "    Answer: Required data must be available prior to review process.\n",
      "    Explanation: At the point of submission, you will be asked if there is a data set associated with the paper. If you reply yes, you will be asked to provide the DOI, pre-registered DOI, hyperlink, or other persistent identifier associated with the data set(s). If you have selected to provide a pre-registered DOI, please be prepared to share the reviewer URL associated with your data deposit, upon request by reviewers.\n",
      "#############################################################\n",
      "analytical_letters\n",
      "7. Timing of data release\n",
      "  Resp. 0:\n",
      "    Answer: Required data must be available prior to official publication.\n",
      "    Explanation: At the point of submission, you will be asked if there is a data set associated with the paper. If you reply yes, you will be asked to provide the DOI, pre-registered DOI, hyperlink, or other persistent identifier associated with the data set(s).\n",
      "  Resp. 1:\n",
      "    Answer: Required data must be available prior to review process.\n",
      "    Explanation: At the point of submission, you will be asked if there is a data set associated with the paper. If you reply yes, you will be asked to provide the DOI, pre-registered DOI, hyperlink, or other persistent identifier associated with the data set(s). If you have selected to provide a pre-registered DOI, please be prepared to share the reviewer URL associated with your data deposit, upon request by reviewers.\n",
      "#############################################################\n",
      "ferroelectrics\n",
      "1. Existence of research data policy\n",
      "  Resp. 0:\n",
      "    Answer: Research Data Policy (RDP) exists.\n",
      "    Explanation: This journal supports Open Science Badges. The Open Science Badges program was designed by the Center for Open Science (COS) to acknowledge open science practices. Badges are offered as incentives for researchers to share data, materials, or to preregister, and are a signal to the reader that the content of the study has been made available in perpetuity\n",
      "  Resp. 1:\n",
      "    Answer: Research Data Policy (RDP) does not exists.\n",
      "    Explanation: Some papers contain share upon request statements, some don't.\n",
      "3. Data sharing requirements in RDP\n",
      "  Resp. 0:\n",
      "    Answer: Public data sharing of all data required.\n",
      "    Explanation: The Open Data badge is earned for making publicly available the digitally-shareable data necessary to reproduce the reported results.\n",
      "  Resp. 1:\n",
      "    Answer: Data sharing only with editors and referees (no public sharing)\n",
      "    Explanation: nan\n",
      "4. FAIR data sharing (see https://www.go-fair.org/fair-principles/ for a definition of FAIR)\n",
      "  Resp. 0:\n",
      "    Answer: Public data sharing on a FAIR repository encouraged.\n",
      "    Explanation: We highly encourage researchers to consider the FAIR Data Principles when depositing data.\n",
      "  Resp. 1:\n",
      "    Answer: Public data sharing on a FAIR repository not mentioned in RDP.\n",
      "    Explanation: nan\n",
      "2. Data availability statement\n",
      "  Resp. 0:\n",
      "    Answer: Required according to the RDP.\n",
      "    Explanation: Authors are required to provide a data availability statement, detailing where data associated with a paper can be found and how it can be accessed\n",
      "  Resp. 1:\n",
      "    Answer: Not mentioned in the RDP.\n",
      "    Explanation: Author instructions do not contain a data sharing policy: https://www.tandfonline.com/action/authorSubmission?show=instructions&journalCode=gmcl20\n",
      "The responses hereafter are based on looking through some papers in that journal.\n",
      "5. Citability and findability of data \n",
      "  Resp. 0:\n",
      "    Answer: DOIs or other persistent identifiers recommended for datasets or codes.\n",
      "    Explanation: We recommend choosing a repository that can mint a persistent digital identifier, such as a digital object identifier (DOI).\n",
      "  Resp. 1:\n",
      "    Answer: No mention of DOIs or other persistent identifiers for datasets or codes.\n",
      "    Explanation: nan\n",
      "7. Timing of data release\n",
      "  Resp. 0:\n",
      "    Answer: Required data must be available prior to review process.\n",
      "    Explanation: At the point of submission, you will be asked to provide the DOI, pre-registered DOI, hyperlink, or other persistent identifier associated with the data set(s).\n",
      "  Resp. 1:\n",
      "    Answer: Timing of data availability not adressed in RDP.\n",
      "    Explanation: nan\n",
      "8. Recommended data sharing method\n",
      "  Resp. 0:\n",
      "    Answer: Public online repositories recommended in RDP.\n",
      "    Explanation: We recommend authors deposit data in a recognized data repository before submission\n",
      "  Resp. 1:\n",
      "    Answer: No data sharing method recommended in RDP.\n",
      "    Explanation: https://www.tandfonline.com/action/authorSubmission?show=instructions&journalCode=gfer20\n",
      "10. Referee guidelines concerning research data\n",
      "  Resp. 0:\n",
      "    Answer: Data sharing policy mentioned in refereeing guidelines.\n",
      "    Explanation: Peer reviewers and editors will be considering a manuscript’s data availability statement and whether the authors have complied with the journal’s data sharing policy.\n",
      "  Resp. 1:\n",
      "    Answer: Data sharing policy not mentioned in refereeing guidelines.\n",
      "    Explanation: https://editorresources.taylorandfrancis.com/reviewer-guidelines/\n",
      "13. Code sharing requirements\n",
      "  Resp. 0:\n",
      "    Answer: Code sharing not mentioned.\n",
      "    Explanation: no text\n",
      "  Resp. 1:\n",
      "    Answer: Code sharing encouraged but optional.\n",
      "    Explanation: nan\n",
      "#############################################################\n",
      "green_chemistry_letters_and_reviews\n",
      "7. Timing of data release\n",
      "  Resp. 0:\n",
      "    Answer: Required data must be available prior to official publication.\n",
      "    Explanation: At the point of submission, you will be asked if there is a data set associated with the paper. If you reply yes, you will be asked to provide the DOI, pre-registered DOI, hyperlink, or other persistent identifier associated with the data set(s).\n",
      "  Resp. 1:\n",
      "    Answer: Required data must be available prior to review process.\n",
      "    Explanation: At the point of submission, you will be asked if there is a data set associated with the paper. If you reply yes, you will be asked to provide the DOI, pre-registered DOI, hyperlink, or other persistent identifier associated with the data set(s). If you have selected to provide a pre-registered DOI, please be prepared to share the reviewer URL associated with your data deposit, upon request by reviewers.\n",
      "#############################################################\n",
      "international_journal_of_nanomedicine\n",
      "3. Data sharing requirements in RDP\n",
      "  Resp. 0:\n",
      "    Answer: Public data sharing required only for specific types of data.\n",
      "    Explanation:  Data Sharing Statement\n",
      "\n",
      "Manuscripts submitted to Dove Medical Press journals from July 1st, 2018, reporting on clinical trial data must contain a data sharing statement indicating:\n",
      "\n",
      "    Whether the authors intend to share individual deidentified participant data;\n",
      "    What specific data they intend to share;\n",
      "    What other study-related documents will be made available;\n",
      "    How the data will be accessible;\n",
      "    When and for how long they will be made available.\n",
      "\n",
      "See the ICMJE guidelines on data sharing and example given in the Table.\n",
      "\n",
      "Clinical trials that begin enrolling participants on or after 1 January 2019 must include a data sharing plan in the trial’s registration. Any deviations from this plan must be disclosed in the data sharing statement when published.\n",
      "  Resp. 1:\n",
      "    Answer: Data sharing encouraged but optional.\n",
      "    Explanation: Data Sharing Policy\n",
      "\n",
      "As part of the Taylor & Francis Group, Dove Medical Press applies the Basic Data Sharing Policy. Authors are encouraged to share or make open the data supporting the results or analyses presented in their paper where this does not violate the protection of human subjects or other valid privacy or security concerns.\n",
      "\n",
      "Authors are encouraged to deposit the dataset(s) in a recognized data repository that can mint a persistent digital identifier, preferably a digital object identifier (DOI) and recognizes a long-term preservation plan. If you are uncertain about where to deposit your data, please see this information regarding repositories.\n",
      "\n",
      "Authors are further encouraged to cite any data sets referenced in the article and provide a Data Availability Statement.\n",
      "\n",
      "Where one or multiple data sets are associated with a manuscript, these are not formally peer reviewed as a part of the journal submission process. It is the author’s responsibility to ensure the soundness of data. Any errors in the data rest solely with the producers of the data set(s).\n",
      "  Resp. 2:\n",
      "    Answer: Data sharing encouraged but optional.\n",
      "    Explanation: Data Sharing Policy\n",
      "\n",
      "As part of the Taylor & Francis Group, Dove Medical Press applies the Basic Data Sharing Policy. Authors are encouraged to share or make open the data supporting the results or analyses presented in their paper where this does not violate the protection of human subjects or other valid privacy or security concerns.\n",
      "\n",
      "Authors are encouraged to deposit the dataset(s) in a recognized data repository that can mint a persistent digital identifier, preferably a digital object identifier (DOI) and recognizes a long-term preservation plan. If you are uncertain about where to deposit your data, please see this information regarding repositories.\n",
      "\n",
      "Authors are further encouraged to cite any data sets referenced in the article and provide a Data Availability Statement.\n",
      "\n",
      "Where one or multiple data sets are associated with a manuscript, these are not formally peer reviewed as a part of the journal submission process. It is the author’s responsibility to ensure the soundness of data. Any errors in the data rest solely with the producers of the data set(s).\n",
      "4. FAIR data sharing (see https://www.go-fair.org/fair-principles/ for a definition of FAIR)\n",
      "  Resp. 0:\n",
      "    Answer: Public data sharing on a FAIR repository not mentioned in RDP.\n",
      "    Explanation: no text\n",
      "  Resp. 1:\n",
      "    Answer: Public data sharing on a FAIR repository encouraged.\n",
      "    Explanation: FAIR data \n",
      "\n",
      "We encourage all researchers to consider the FAIR Data Principles when depositing data, to maximize its use. FAIR data is: \n",
      "\n",
      "Findable: includes rich metadata and a persistent identified (e.g. DOI) so that others can easily find and discover it.\n",
      "\n",
      "Accessible: the data and metadata are understandable, so machines and humans can read and process it. Data also needs to be located in a trustworthy repository which preserves them in perpetuity.\n",
      "\n",
      "Interoperable: the metadata are expressed in a formal, accessible, shared, and broadly applicable language, allowing sharing between different systems.\n",
      "\n",
      "Reusable: data have a clear and accessible usage license that specifies reuse.\n",
      "\n",
      "For more information on FAIR data read the FAIR data principles. \n",
      "  Resp. 2:\n",
      "    Answer: Public data sharing on a FAIR repository encouraged.\n",
      "    Explanation: FAIR data \n",
      "\n",
      "We encourage all researchers to consider the FAIR Data Principles when depositing data, to maximize its use. FAIR data is: \n",
      "\n",
      "Findable: includes rich metadata and a persistent identified (e.g. DOI) so that others can easily find and discover it.\n",
      "\n",
      "Accessible: the data and metadata are understandable, so machines and humans can read and process it. Data also needs to be located in a trustworthy repository which preserves them in perpetuity.\n",
      "\n",
      "Interoperable: the metadata are expressed in a formal, accessible, shared, and broadly applicable language, allowing sharing between different systems.\n",
      "\n",
      "Reusable: data have a clear and accessible usage license that specifies reuse.\n",
      "\n",
      "For more information on FAIR data read the FAIR data principles. \n",
      "8. Recommended data sharing method\n",
      "  Resp. 0:\n",
      "    Answer: Public online repositories recommended in RDP.\n",
      "    Explanation: Depositing laboratory protocols on io is encouraged, where a DOI can be assigned to the protocol.\n",
      "  Resp. 1:\n",
      "    Answer: Multiple data sharing methods equally recommended in RDP.\n",
      "    Explanation: First we recommend speaking to your institutional librarian, funder or colleagues at your institution for guidance on choosing a repository that is relevant to your discipline. You can also use FAIRsharing and re3data.org to search for a suitable repository – both provide a list of certified data repositories.\n",
      "\n",
      "For cases where there is no subject-specific repository, you may wish to consider some of the generalist data repository types below.\n",
      "\n",
      "4TU.ResearchData\n",
      "\n",
      "ANDS contributing repositories\n",
      "\n",
      "Dryad Digital Repository\n",
      "\n",
      "Figshare\n",
      "\n",
      "Harvard Dataverse\n",
      "\n",
      "Mendeley Data\n",
      "\n",
      "Open Science Framework\n",
      "\n",
      "Science Data Bank\n",
      "\n",
      "Zenodo\n",
      "\n",
      "Code Ocean (with code)\n",
      "\n",
      "We encourage authors to select a data repository that issues a persistent identifier, preferably a Digital Object Identifier (DOI), and has established a robust preservation plan to ensure the data is preserved in perpetuity. Additionally, we highly encourage researchers to consider the FAIR Data Principles when depositing data.\n",
      "  Resp. 2:\n",
      "    Answer: Public online repositories recommended in RDP.\n",
      "    Explanation: First we recommend speaking to your institutional librarian, funder or colleagues at your institution for guidance on choosing a repository that is relevant to your discipline. You can also use FAIRsharing and re3data.org to search for a suitable repository – both provide a list of certified data repositories.\n",
      "\n",
      "For cases where there is no subject-specific repository, you may wish to consider some of the generalist data repository types below.\n",
      "\n",
      "4TU.ResearchData\n",
      "\n",
      "ANDS contributing repositories\n",
      "\n",
      "Dryad Digital Repository\n",
      "\n",
      "Figshare\n",
      "\n",
      "Harvard Dataverse\n",
      "\n",
      "Mendeley Data\n",
      "\n",
      "Open Science Framework\n",
      "\n",
      "Science Data Bank\n",
      "\n",
      "Zenodo\n",
      "\n",
      "Code Ocean (with code)\n",
      "\n",
      "We encourage authors to select a data repository that issues a persistent identifier, preferably a Digital Object Identifier (DOI), and has established a robust preservation plan to ensure the data is preserved in perpetuity. Additionally, we highly encourage researchers to consider the FAIR Data Principles when depositing data.\n",
      "13. Code sharing requirements\n",
      "  Resp. 0:\n",
      "    Answer: Code sharing not mentioned.\n",
      "    Explanation: no text\n",
      "  Resp. 1:\n",
      "    Answer: Code sharing encouraged but optional.\n",
      "    Explanation: You may have created new code during your research; perhaps as a direct output of your work or as a tool to help you analyze the data you’ve collected. You should also consider including this in your data sharing plan, especially if the code you’ve created is required for others to validate your results.\n",
      "  Resp. 2:\n",
      "    Answer: Code sharing encouraged but optional.\n",
      "    Explanation: You may have created new code during your research; perhaps as a direct output of your work or as a tool to help you analyze the data you’ve collected. You should also consider including this in your data sharing plan, especially if the code you’ve created is required for others to validate your results.\n",
      "#############################################################\n",
      "journal_of_asian_ceramic_societies\n",
      "13. Code sharing requirements\n",
      "  Resp. 0:\n",
      "    Answer: Code sharing not mentioned.\n",
      "    Explanation: no text\n",
      "  Resp. 1:\n",
      "    Answer: Code sharing encouraged but optional.\n",
      "    Explanation: nan\n",
      "#############################################################\n",
      "journal_of_macromolecular_science_part_b\n",
      "7. Timing of data release\n",
      "  Resp. 0:\n",
      "    Answer: Required data must be available prior to official publication.\n",
      "    Explanation: At the point of submission, you will be asked if there is a data set associated with the paper. If you reply yes, you will be asked to provide the DOI, pre-registered DOI, hyperlink, or other persistent identifier associated with the data set(s).\n",
      "  Resp. 1:\n",
      "    Answer: Required data must be available prior to review process.\n",
      "    Explanation: At the point of submission, you will be asked if there is a data set associated with the paper. If you reply yes, you will be asked to provide the DOI, pre-registered DOI, hyperlink, or other persistent identifier associated with the data set(s). If you have selected to provide a pre-registered DOI, please be prepared to share the reviewer URL associated with your data deposit, upon request by reviewers.\n",
      "#############################################################\n",
      "liquid_crystals\n",
      "7. Timing of data release\n",
      "  Resp. 0:\n",
      "    Answer: Required data must be available prior to official publication.\n",
      "    Explanation: At the point of submission, you will be asked if there is a data set associated with the paper. If you reply yes, you will be asked to provide the DOI, pre-registered DOI, hyperlink, or other persistent identifier associated with the data set(s).\n",
      "  Resp. 1:\n",
      "    Answer: Required data must be available prior to review process.\n",
      "    Explanation: At the point of submission, you will be asked if there is a data set associated with the paper. If you reply yes, you will be asked to provide the DOI, pre-registered DOI, hyperlink, or other persistent identifier associated with the data set(s). If you have selected to provide a pre-registered DOI, please be prepared to share the reviewer URL associated with your data deposit, upon request by reviewers.\n",
      "#############################################################\n",
      "materials_research_letters\n",
      "7. Timing of data release\n",
      "  Resp. 0:\n",
      "    Answer: Required data must be available prior to official publication.\n",
      "    Explanation: At the point of submission, you will be asked if there is a data set associated with the paper. If you reply yes, you will be asked to provide the DOI, pre-registered DOI, hyperlink, or other persistent identifier associated with the data set(s).\n",
      "  Resp. 1:\n",
      "    Answer: Required data must be available prior to review process.\n",
      "    Explanation: At the point of submission, you will be asked if there is a data set associated with the paper. If you reply yes, you will be asked to provide the DOI, pre-registered DOI, hyperlink, or other persistent identifier associated with the data set(s). If you have selected to provide a pre-registered DOI, please be prepared to share the reviewer URL associated with your data deposit, upon request by reviewers.\n",
      "#############################################################\n",
      "molecular_crystals_and_liquid_crystals\n",
      "13. Code sharing requirements\n",
      "  Resp. 0:\n",
      "    Answer: Code sharing not mentioned.\n",
      "    Explanation: no text\n",
      "  Resp. 1:\n",
      "    Answer: Code sharing encouraged but optional.\n",
      "    Explanation: nan\n",
      "#############################################################\n",
      "molecular_physics\n",
      "7. Timing of data release\n",
      "  Resp. 0:\n",
      "    Answer: Required data must be available prior to official publication.\n",
      "    Explanation: At the point of submission, you will be asked if there is a data set associated with the paper. If you reply yes, you will be asked to provide the DOI, pre-registered DOI, hyperlink, or other persistent identifier associated with the data set(s).\n",
      "  Resp. 1:\n",
      "    Answer: Required data must be available prior to review process.\n",
      "    Explanation: At the point of submission, you will be asked if there is a data set associated with the paper. If you reply yes, you will be asked to provide the DOI, pre-registered DOI, hyperlink, or other persistent identifier associated with the data set(s). If you have selected to provide a pre-registered DOI, please be prepared to share the reviewer URL associated with your data deposit, upon request by reviewers.\n",
      "#############################################################\n",
      "nanotoxicology\n",
      "8. Recommended data sharing method\n",
      "  Resp. 0:\n",
      "    Answer: Public online repositories recommended in RDP.\n",
      "    Explanation: We recommend authors deposit data in a recognized data repository before submission. This can facilitate the ease of sharing on receipt of requests.\n",
      "  Resp. 1:\n",
      "    Answer: Data is shared upon request to authors in RDP.\n",
      "    Explanation: This journal applies the Taylor & Francis share upon reasonable request data sharing policy. Authors agree to make data and materials supporting the results or analyses presented in their paper available upon reasonable request. It is up to the author to determine whether a request is reasonable. Authors are required to cite any data sets referenced in the article and provide a Data Availability Statement. Please note that data should only be shared if it is ethically correct to do so, where this does not violate the protection of human subjects, or other valid ethical, privacy, or security concerns.\n",
      "10. Referee guidelines concerning research data\n",
      "  Resp. 0:\n",
      "    Answer: Data sharing policy mentioned in refereeing guidelines.\n",
      "    Explanation: Peer reviewers and editors will be considering a manuscript’s data availability statement and whether the authors have complied with the journal’s data sharing policy.\n",
      "  Resp. 1:\n",
      "    Answer: Data sharing policy not mentioned in refereeing guidelines.\n",
      "    Explanation: https://editorresources.taylorandfrancis.com/reviewer-guidelines/\n",
      "13. Code sharing requirements\n",
      "  Resp. 0:\n",
      "    Answer: Code sharing not mentioned.\n",
      "    Explanation: no text\n",
      "  Resp. 1:\n",
      "    Answer: Code sharing encouraged but optional.\n",
      "    Explanation: You may have created new code during your research; perhaps as a direct output of your work or as a tool to help you analyze the data you’ve collected. You should also consider including this in your data sharing plan, especially if the code you’ve created is required for others to validate your results.\n",
      "#############################################################\n",
      "polycyclic_aromatic_compounds\n",
      "7. Timing of data release\n",
      "  Resp. 0:\n",
      "    Answer: Required data must be available prior to official publication.\n",
      "    Explanation: At the point of submission, you will be asked if there is a data set associated with the paper. If you reply yes, you will be asked to provide the DOI, pre-registered DOI, hyperlink, or other persistent identifier associated with the data set(s).\n",
      "  Resp. 1:\n",
      "    Answer: Required data must be available prior to review process.\n",
      "    Explanation: At the point of submission, you will be asked if there is a data set associated with the paper. If you reply yes, you will be asked to provide the DOI, pre-registered DOI, hyperlink, or other persistent identifier associated with the data set(s). If you have selected to provide a pre-registered DOI, please be prepared to share the reviewer URL associated with your data deposit, upon request by reviewers.\n",
      "#############################################################\n",
      "science_and_technology_of_advanced_materials\n",
      "7. Timing of data release\n",
      "  Resp. 0:\n",
      "    Answer: Required data must be available prior to official publication.\n",
      "    Explanation: At the point of submission, you will be asked if there is a data set associated with the paper. If you reply yes, you will be asked to provide the DOI, pre-registered DOI, hyperlink, or other persistent identifier associated with the data set(s).\n",
      "  Resp. 1:\n",
      "    Answer: Required data must be available prior to review process.\n",
      "    Explanation: At the point of submission, you will be asked if there is a data set associated with the paper. If you reply yes, you will be asked to provide the DOI, pre-registered DOI, hyperlink, or other persistent identifier associated with the data set(s). If you have selected to provide a pre-registered DOI, please be prepared to share the reviewer URL associated with your data deposit, upon request by reviewers.\n",
      "#############################################################\n",
      "waves_in_random_and_complex_media\n",
      "7. Timing of data release\n",
      "  Resp. 0:\n",
      "    Answer: Required data must be available prior to official publication.\n",
      "    Explanation: At the point of submission, you will be asked if there is a data set associated with the paper. If you reply yes, you will be asked to provide the DOI, pre-registered DOI, hyperlink, or other persistent identifier associated with the data set(s).\n",
      "  Resp. 1:\n",
      "    Answer: Required data must be available prior to review process.\n",
      "    Explanation: At the point of submission, you will be asked if there is a data set associated with the paper. If you reply yes, you will be asked to provide the DOI, pre-registered DOI, hyperlink, or other persistent identifier associated with the data set(s). If you have selected to provide a pre-registered DOI, please be prepared to share the reviewer URL associated with your data deposit, upon request by reviewers.\n"
     ]
    }
   ],
   "source": [
    "for journal, data in grouped_questions['Taylor & Francis'].items():\n",
    "    print('#############################################################')\n",
    "    print(journal)\n",
    "    for question, answer in data.items():\n",
    "        if answer.has_discrepancies():\n",
    "            answer.print_qa()"
   ]
  },
  {
   "cell_type": "markdown",
   "id": "2a1944b9",
   "metadata": {},
   "source": [
    "These are the answers given by the two encoders:"
   ]
  },
  {
   "cell_type": "markdown",
   "id": "9ccc8677",
   "metadata": {},
   "source": [
    "Inconsistencies can be removed manually, passing the index of the correct respondent."
   ]
  },
  {
   "cell_type": "code",
   "execution_count": 113,
   "id": "37f18086",
   "metadata": {},
   "outputs": [],
   "source": [
    "grouped_questions['Taylor & Francis']['advanced_composite_materials'][7].resolve_discrepancy(correct_answer = 1)\n",
    "grouped_questions['Taylor & Francis']['analytical_letters'][7].resolve_discrepancy(correct_answer = 1)\n",
    "grouped_questions['Taylor & Francis']['green_chemistry_letters_and_reviews'][7].resolve_discrepancy(correct_answer = 1)\n",
    "grouped_questions['Taylor & Francis']['journal_of_macromolecular_science_part_b'][7].resolve_discrepancy(correct_answer = 1)\n",
    "grouped_questions['Taylor & Francis']['materials_research_letters'][7].resolve_discrepancy(correct_answer = 1)\n",
    "grouped_questions['Taylor & Francis']['molecular_physics'][7].resolve_discrepancy(correct_answer = 1)\n",
    "grouped_questions['Taylor & Francis']['waves_in_random_and_complex_media'][7].resolve_discrepancy(correct_answer = 1)\n",
    "grouped_questions['Taylor & Francis']['science_and_technology_of_advanced_materials'][7].resolve_discrepancy(correct_answer = 1)\n",
    "grouped_questions['Taylor & Francis']['polycyclic_aromatic_compounds'][7].resolve_discrepancy(correct_answer = 1)\n",
    "\n",
    "for i in range(1, 14):\n",
    "    if not i == 6:\n",
    "        grouped_questions['Taylor & Francis']['ferroelectrics'][i].resolve_discrepancy(correct_answer = 0)\n",
    "\n",
    "grouped_questions['Taylor & Francis']['ferroelectrics'][i].resolve_discrepancy(correct_answer = 0)\n",
    "\n"
   ]
  },
  {
   "cell_type": "code",
   "execution_count": 115,
   "id": "bf3a1c16",
   "metadata": {},
   "outputs": [
    {
     "name": "stdout",
     "output_type": "stream",
     "text": [
      "APS\n",
      "Taylor & Francis\n"
     ]
    }
   ],
   "source": [
    "\n",
    "save_answers_to_yaml(grouped_questions, parent_folder='../../data/processed/all_answers', save_only = ['APS', 'Taylor & Francis'])\n"
   ]
  },
  {
   "cell_type": "markdown",
   "id": "5891b5f2",
   "metadata": {},
   "source": [
    "After doing this, the `.get_final_answer()` method returns the correct answer."
   ]
  },
  {
   "cell_type": "code",
   "execution_count": 116,
   "id": "bbee9e63",
   "metadata": {},
   "outputs": [
    {
     "data": {
      "text/plain": [
       "Answer(text=Required data must be available prior to review process., explanation=At the point of submission, you will be asked if there is a data set associated with the paper. If you reply yes, you will be asked to provide the DOI, pre-registered DOI, hyperlink, or other persistent identifier associated with the data set(s). If you have selected to provide a pre-registered DOI, please be prepared to share the reviewer URL associated with your data deposit, upon request by reviewers.)"
      ]
     },
     "execution_count": 116,
     "metadata": {},
     "output_type": "execute_result"
    }
   ],
   "source": [
    "grouped_questions['Taylor & Francis']['polycyclic_aromatic_compounds'][7].get_final_answer()"
   ]
  },
  {
   "cell_type": "markdown",
   "id": "50efb2f5",
   "metadata": {},
   "source": [
    "Alternatively, inconsistencies can be solved with small additions to the `yaml` files written before."
   ]
  },
  {
   "cell_type": "markdown",
   "id": "6ecbfd0d",
   "metadata": {},
   "source": [
    "Each file, one per journal, has this form:\n",
    "\n",
    "```\n",
    "...\n",
    "...\n",
    "3:\n",
    "  text: 3. Data sharing requirements in RDP\n",
    "  has_discrepancies: true\n",
    "  0:\n",
    "    text: Data sharing encouraged but optional.\n",
    "    explanation: All ACS journals strongly encourage authors to make the research\n",
    "      data underlying their articles publicly available at the time of publication.\n",
    "  1:\n",
    "    text: Data sharing required but not publicly (e.g. available upon request is allowed).\n",
    "    explanation: \"Text from Journal Research Data Policy : \\n\\\" All ACS journals strongly\\\n",
    "      \\ encourage authors to make the research data underlying their articles publicly\\\n",
    "      \\ available at the time of publication. \\\"\"\n",
    "  correct_answer: null\n",
    "...\n",
    "...\n",
    "```\n",
    "\n",
    "Only questions where `has_discrepancies` is `true` should be taken care of. \n",
    "\n",
    "The correct answer can be chosen writing the encoder id in `correct_answer`. \n",
    "\n",
    "For example, in this case it seems that the first answer is correct, as the RDP only encourages (albeit strongly) data publication.\n",
    "\n",
    "Therefore, one can write\n",
    "\n",
    "```\n",
    "  correct_answer: 0\n",
    "```\n",
    "\n",
    "and save the file. Once all questions with discrepancies are fixed, one can save the `yaml` file and proceed with the next journal."
   ]
  },
  {
   "cell_type": "markdown",
   "id": "94a3b9b8",
   "metadata": {},
   "source": [
    "For the sake of illustrating the next functions, let's assume the correct answer is always the first, and manually \"fix\" all the q&a."
   ]
  },
  {
   "cell_type": "code",
   "execution_count": 102,
   "id": "98b7f113",
   "metadata": {},
   "outputs": [],
   "source": [
    "from copy import deepcopy\n",
    "fixed_grouped_questions = deepcopy(grouped_questions)\n",
    "for p in fixed_grouped_questions:\n",
    "    for j in fixed_grouped_questions[p]:\n",
    "        for q in fixed_grouped_questions[p][j]:\n",
    "            fixed_grouped_questions[p][j][q].resolve_discrepancy(correct_answer = 0)"
   ]
  },
  {
   "cell_type": "markdown",
   "id": "119f4b20",
   "metadata": {},
   "source": [
    "## `Publisher` and `Journal` classes"
   ]
  },
  {
   "cell_type": "markdown",
   "id": "cd5e934e",
   "metadata": {},
   "source": [
    "In case all the q&a files are fixed, load the `yaml` files and define a new, fixed, `grouped_questions` dictionary, uncommenting the next cell.\n",
    "\n",
    "Otherwise, keep the current `grouped_questions` dictionary as given by the preceding cell."
   ]
  },
  {
   "cell_type": "code",
   "execution_count": 103,
   "id": "27bf45f8",
   "metadata": {},
   "outputs": [],
   "source": [
    "# fixed_grouped_questions = load_answers_from_yaml(parent_folder='../../data/processed/all_answers')"
   ]
  },
  {
   "cell_type": "markdown",
   "id": "65428355",
   "metadata": {},
   "source": [
    "Define a dictionary of `Publisher` instances containing `Journal` instances with the information taken from `grouped_questions`."
   ]
  },
  {
   "cell_type": "code",
   "execution_count": 104,
   "id": "fb51bbc5",
   "metadata": {},
   "outputs": [
    {
     "ename": "ValueError",
     "evalue": "Correct answer is unknown. Resolve discrepancies, if present.",
     "output_type": "error",
     "traceback": [
      "\u001b[0;31m---------------------------------------------------------------------------\u001b[0m",
      "\u001b[0;31mValueError\u001b[0m                                Traceback (most recent call last)",
      "Cell \u001b[0;32mIn[104], line 4\u001b[0m\n\u001b[1;32m      1\u001b[0m publishers \u001b[38;5;241m=\u001b[39m {}\n\u001b[1;32m      3\u001b[0m \u001b[38;5;28;01mfor\u001b[39;00m publisher_name, questions \u001b[38;5;129;01min\u001b[39;00m grouped_questions\u001b[38;5;241m.\u001b[39mitems():\n\u001b[0;32m----> 4\u001b[0m     publishers[publisher_name] \u001b[38;5;241m=\u001b[39m \u001b[43mPublisher\u001b[49m\u001b[38;5;241;43m.\u001b[39;49m\u001b[43mfrom_questions\u001b[49m\u001b[43m(\u001b[49m\u001b[43mpublisher_name\u001b[49m\u001b[43m,\u001b[49m\u001b[43m \u001b[49m\u001b[43mquestions\u001b[49m\u001b[43m)\u001b[49m\n",
      "File \u001b[0;32m~/anaconda3/lib/python3.11/site-packages/daemon_analysis_tools/data/publisher.py:43\u001b[0m, in \u001b[0;36mPublisher.from_questions\u001b[0;34m(cls, publisher_name, journals_data)\u001b[0m\n\u001b[1;32m     41\u001b[0m final_data \u001b[38;5;241m=\u001b[39m {}\n\u001b[1;32m     42\u001b[0m \u001b[38;5;28;01mfor\u001b[39;00m question_text, question \u001b[38;5;129;01min\u001b[39;00m questions\u001b[38;5;241m.\u001b[39mitems():\n\u001b[0;32m---> 43\u001b[0m     answer \u001b[38;5;241m=\u001b[39m \u001b[43mquestion\u001b[49m\u001b[38;5;241;43m.\u001b[39;49m\u001b[43mget_final_answer\u001b[49m\u001b[43m(\u001b[49m\u001b[43m)\u001b[49m\n\u001b[1;32m     44\u001b[0m     \u001b[38;5;28;01mif\u001b[39;00m answer:\n\u001b[1;32m     45\u001b[0m         final_data[\n\u001b[1;32m     46\u001b[0m             question_text\n\u001b[1;32m     47\u001b[0m         ] \u001b[38;5;241m=\u001b[39m answer\u001b[38;5;241m.\u001b[39mtext  \u001b[38;5;66;03m# We are only passing the text to Journal\u001b[39;00m\n",
      "File \u001b[0;32m~/anaconda3/lib/python3.11/site-packages/daemon_analysis_tools/data/question.py:91\u001b[0m, in \u001b[0;36mQuestion.get_final_answer\u001b[0;34m(self)\u001b[0m\n\u001b[1;32m     85\u001b[0m \u001b[38;5;250m\u001b[39m\u001b[38;5;124;03m\"\"\"\u001b[39;00m\n\u001b[1;32m     86\u001b[0m \u001b[38;5;124;03mGet the final resolved answer.\u001b[39;00m\n\u001b[1;32m     87\u001b[0m \n\u001b[1;32m     88\u001b[0m \u001b[38;5;124;03m:return: The resolved Answer object.\u001b[39;00m\n\u001b[1;32m     89\u001b[0m \u001b[38;5;124;03m\"\"\"\u001b[39;00m\n\u001b[1;32m     90\u001b[0m \u001b[38;5;28;01mif\u001b[39;00m \u001b[38;5;28mself\u001b[39m\u001b[38;5;241m.\u001b[39mcorrect_answer \u001b[38;5;129;01mis\u001b[39;00m \u001b[38;5;28;01mNone\u001b[39;00m:\n\u001b[0;32m---> 91\u001b[0m     \u001b[38;5;28;01mraise\u001b[39;00m \u001b[38;5;167;01mValueError\u001b[39;00m(\n\u001b[1;32m     92\u001b[0m         \u001b[38;5;124m\"\u001b[39m\u001b[38;5;124mCorrect answer is unknown. Resolve discrepancies, if present.\u001b[39m\u001b[38;5;124m\"\u001b[39m\n\u001b[1;32m     93\u001b[0m     )\n\u001b[1;32m     94\u001b[0m \u001b[38;5;28;01melse\u001b[39;00m:\n\u001b[1;32m     95\u001b[0m     \u001b[38;5;28;01mreturn\u001b[39;00m \u001b[38;5;28mself\u001b[39m\u001b[38;5;241m.\u001b[39mcorrect_answer\n",
      "\u001b[0;31mValueError\u001b[0m: Correct answer is unknown. Resolve discrepancies, if present."
     ]
    }
   ],
   "source": [
    "publishers = {}\n",
    "\n",
    "for publisher_name, questions in grouped_questions.items():\n",
    "    publishers[publisher_name] = Publisher.from_questions(publisher_name, questions)"
   ]
  },
  {
   "cell_type": "markdown",
   "id": "2358a24f",
   "metadata": {},
   "source": [
    "For example, the ACS publisher instance is"
   ]
  },
  {
   "cell_type": "code",
   "execution_count": null,
   "id": "b086c6bd",
   "metadata": {},
   "outputs": [],
   "source": [
    "publishers['ACS']"
   ]
  },
  {
   "cell_type": "markdown",
   "id": "ff83dd87",
   "metadata": {},
   "source": [
    "and the journals it contains are"
   ]
  },
  {
   "cell_type": "code",
   "execution_count": null,
   "id": "5474f9a5",
   "metadata": {},
   "outputs": [],
   "source": [
    "publishers['ACS'].list_journals()"
   ]
  },
  {
   "cell_type": "markdown",
   "id": "5b69544e",
   "metadata": {},
   "source": [
    "and one of the jornals, e.g. JACS, is"
   ]
  },
  {
   "cell_type": "code",
   "execution_count": null,
   "id": "b3dd1a9a",
   "metadata": {},
   "outputs": [],
   "source": [
    "publishers['ACS'].get_journal('jacs')"
   ]
  }
 ],
 "metadata": {
  "kernelspec": {
   "display_name": "Python 3 (ipykernel)",
   "language": "python",
   "name": "python3"
  },
  "language_info": {
   "codemirror_mode": {
    "name": "ipython",
    "version": 3
   },
   "file_extension": ".py",
   "mimetype": "text/x-python",
   "name": "python",
   "nbconvert_exporter": "python",
   "pygments_lexer": "ipython3",
   "version": "3.11.5"
  }
 },
 "nbformat": 4,
 "nbformat_minor": 5
}
