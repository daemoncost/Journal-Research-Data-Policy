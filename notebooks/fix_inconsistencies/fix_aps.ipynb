{
 "cells": [
  {
   "cell_type": "code",
   "execution_count": 1,
   "id": "329991a1",
   "metadata": {},
   "outputs": [],
   "source": [
    "%load_ext autoreload\n",
    "%autoreload 2"
   ]
  },
  {
   "cell_type": "code",
   "execution_count": null,
   "id": "0ab0b216-7fdd-4b0e-ad71-d4604f6d7e76",
   "metadata": {},
   "outputs": [],
   "source": [
    "from daemon_analysis_tools.file_handling import load_and_process_csv\n",
    "from daemon_analysis_tools.data.utils import group_questions_by_journal\n",
    "from daemon_analysis_tools.data.publisher import Publisher\n",
    "from daemon_analysis_tools.file_handling import (\n",
    "    save_answers_to_yaml,\n",
    "    load_answers_from_yaml,\n",
    ")"
   ]
  },
  {
   "cell_type": "markdown",
   "id": "f4721670-c95c-48cb-bdef-f97b4618114a",
   "metadata": {},
   "source": [
    "Load and process data:\n",
    "- Group answers by publisher and journal, trying to uniform names written in slightly different ways.\n",
    "- Store in a DataFrame"
   ]
  },
  {
   "cell_type": "code",
   "execution_count": null,
   "id": "f56a64b0",
   "metadata": {},
   "outputs": [],
   "source": [
    "data = load_and_process_csv(\"../../data/raw/rdp.csv\")"
   ]
  },
  {
   "cell_type": "markdown",
   "id": "25f6f4d3",
   "metadata": {},
   "source": [
    "Get a `dict` labeled by publisher names of `dict`s labeled by journal names of `dict`s of `Question` instances. The `.answer` attribute contains the answers given by the respondents and the explanations text to motivate it."
   ]
  },
  {
   "cell_type": "code",
   "execution_count": 4,
   "id": "95536961",
   "metadata": {},
   "outputs": [],
   "source": [
    "grouped_questions = group_questions_by_journal(data)"
   ]
  },
  {
   "cell_type": "markdown",
   "id": "63a8215f",
   "metadata": {},
   "source": [
    "## Resolve discrepancies"
   ]
  },
  {
   "cell_type": "markdown",
   "id": "1809eb4c",
   "metadata": {},
   "source": [
    "The `Question` class has a `.resolve_discrepancies` method which updates `Question.anwsers` with the correct answer."
   ]
  },
  {
   "cell_type": "markdown",
   "id": "9a40c58d",
   "metadata": {},
   "source": [
    "For example, let's consider IOP's 2D Materials. Question 7 has discrepancies."
   ]
  },
  {
   "cell_type": "code",
   "execution_count": null,
   "id": "7e948e54",
   "metadata": {},
   "outputs": [
    {
     "name": "stdout",
     "output_type": "stream",
     "text": [
      "#############################################################\n",
      "physical_review_a\n",
      "#############################################################\n",
      "physical_review_applied\n",
      "#############################################################\n",
      "physical_review_b\n",
      "#############################################################\n",
      "physical_review_c\n",
      "13. Code sharing requirements\n",
      "  Resp. 0:\n",
      "    Answer: Code sharing encouraged but optional.\n",
      "    Explanation: Authors should, when possible, include a Data Availability Statement in the paragraph before the Acknowledgments that indicates the availability of data, software, code, and other materials\n",
      "  Resp. 1:\n",
      "    Answer: Code sharing not mentioned.\n",
      "    Explanation: Data Availability Statements\n",
      "\n",
      "Sharing data supports new research and the independent verification of findings. The Physical Review journals strongly encourage authors to share relevant data, code, software, and other materials that support their reported results by depositing them in open data repositories at the time of publication. Delays in sharing these materials may be appropriate in certain circumstances in order to respect privacy, trade secrets, or national security. In addition to these recommendations, authors should follow requirements for sharing data and code set by their funding agencies.\n",
      "\n",
      "Authors should, when possible, include a Data Availability Statement in the paragraph before the Acknowledgments that indicates the availability of data, software, code, and other materials. The statement should reference relevant data policies from funders and institutions. It should also provide a reference to the data, which includes the authors (creators) of the data, the year, any version number, the name of the repository (if applicable), and a persistent identifier, preferably a DOI. If the data have a corresponding article published in a data journal, then the reference to the journal data should be included as well.\n",
      "#############################################################\n",
      "physical_review_d\n",
      "#############################################################\n",
      "physical_review_e\n",
      "#############################################################\n",
      "physical_review_letters\n",
      "13. Code sharing requirements\n",
      "  Resp. 0:\n",
      "    Answer: Code sharing encouraged but optional.\n",
      "    Explanation: Authors should, when possible, include a Data Availability Statement in the paragraph before the Acknowledgments that indicates the availability of data, software, code, and other materials\n",
      "  Resp. 1:\n",
      "    Answer: Code sharing not mentioned.\n",
      "    Explanation: Data Availability\n",
      "\n",
      "Sharing data supports new research and the independent verification of findings. The Physical Review journals strongly encourage authors to share relevant data, code, software, and other materials that support their reported results by depositing them in open data repositories at the time of publication. Delays in sharing these materials may be appropriate in certain circumstances in order to respect privacy, trade secrets, or national security. In addition to these recommendations, authors should follow requirements for sharing data and code set by their funding agencies.\n",
      "\n",
      "Authors should, when possible, include a Data Availability Statement in the paragraph before the Acknowledgments that indicates the availability of data, software, code, and other materials.\n",
      "#############################################################\n",
      "physical_review_materials\n",
      "#############################################################\n",
      "physical_review_research\n",
      "13. Code sharing requirements\n",
      "  Resp. 0:\n",
      "    Answer: Code sharing encouraged but optional.\n",
      "    Explanation: Authors should, when possible, include a Data Availability Statement in the paragraph before the Acknowledgments that indicates the availability of data, software, code, and other materials\n",
      "  Resp. 1:\n",
      "    Answer: Code sharing not mentioned.\n",
      "    Explanation: Sharing data supports new research and the independent verification of findings. The Physical Review journals strongly encourage authors to share relevant data, code, software, and other materials that support their reported results by depositing them in open data repositories at the time of publication. Delays in sharing these materials may be appropriate in certain circumstances in order to respect privacy, trade secrets, or national security. In addition to these recommendations, authors should follow requirements for sharing data and code set by their funding agencies.\n",
      "#############################################################\n",
      "physical_review_x\n",
      "#############################################################\n",
      "prx_quantum\n",
      "13. Code sharing requirements\n",
      "  Resp. 0:\n",
      "    Answer: Code sharing encouraged but optional.\n",
      "    Explanation: Authors should, when possible, include a Data Availability Statement in the paragraph before the Acknowledgments that indicates the availability of data, software, code, and other materials\n",
      "  Resp. 1:\n",
      "    Answer: Code sharing not mentioned.\n",
      "    Explanation: Sharing data supports new research and the independent verification of findings. The Physical Review journals strongly encourage authors to share relevant data, code, software, and other materials that support their reported results by depositing them in open data repositories at the time of publication. Delays in sharing these materials may be appropriate in certain circumstances in order to respect privacy, trade secrets, or national security. In addition to these recommendations, authors should follow requirements for sharing data and code set by their funding agencies.\n"
     ]
    }
   ],
   "source": [
    "for journal, data in grouped_questions[\"APS\"].items():\n",
    "    print(\"#############################################################\")\n",
    "    print(journal)\n",
    "    for question, answer in data.items():\n",
    "        if answer.has_discrepancies():\n",
    "            answer.print_qa()"
   ]
  },
  {
   "cell_type": "markdown",
   "id": "9ccc8677",
   "metadata": {},
   "source": [
    "Inconsistencies can be removed manually, passing the index of the correct respondent."
   ]
  },
  {
   "cell_type": "code",
   "execution_count": null,
   "id": "37f18086",
   "metadata": {},
   "outputs": [
    {
     "name": "stdout",
     "output_type": "stream",
     "text": [
      "Language understanding\n",
      "Language understanding\n",
      "Language understanding\n",
      "Language understanding\n"
     ]
    }
   ],
   "source": [
    "grouped_questions[\"APS\"][\"physical_review_c\"][13].resolve_discrepancy(\n",
    "    correct_answer=0, discrepancy_reason=\"Language understanding\"\n",
    ")\n",
    "grouped_questions[\"APS\"][\"physical_review_letters\"][13].resolve_discrepancy(\n",
    "    correct_answer=0, discrepancy_reason=\"Language understanding\"\n",
    ")\n",
    "grouped_questions[\"APS\"][\"physical_review_research\"][13].resolve_discrepancy(\n",
    "    correct_answer=0, discrepancy_reason=\"Language understanding\"\n",
    ")\n",
    "grouped_questions[\"APS\"][\"prx_quantum\"][13].resolve_discrepancy(\n",
    "    correct_answer=0, discrepancy_reason=\"Language understanding\"\n",
    ")"
   ]
  },
  {
   "cell_type": "markdown",
   "id": "94aad903",
   "metadata": {},
   "source": []
  },
  {
   "cell_type": "code",
   "execution_count": null,
   "id": "bf3a1c16",
   "metadata": {},
   "outputs": [],
   "source": [
    "save_answers_to_yaml(\n",
    "    grouped_questions,\n",
    "    parent_folder=\"../../data/processed/all_answers\",\n",
    "    save_only=[\"APS\"],\n",
    ")"
   ]
  },
  {
   "cell_type": "markdown",
   "id": "5891b5f2",
   "metadata": {},
   "source": [
    "After doing this, the `.get_final_answer()` method returns the correct answer."
   ]
  }
 ],
 "metadata": {
  "kernelspec": {
   "display_name": "lammps",
   "language": "python",
   "name": "python3"
  },
  "language_info": {
   "codemirror_mode": {
    "name": "ipython",
    "version": 3
   },
   "file_extension": ".py",
   "mimetype": "text/x-python",
   "name": "python",
   "nbconvert_exporter": "python",
   "pygments_lexer": "ipython3",
   "version": "3.11.8"
  }
 },
 "nbformat": 4,
 "nbformat_minor": 5
}
